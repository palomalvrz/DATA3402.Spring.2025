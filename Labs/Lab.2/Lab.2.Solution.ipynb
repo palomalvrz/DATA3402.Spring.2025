{
 "cells": [
  {
   "cell_type": "markdown",
   "metadata": {},
   "source": [
    "## Lab 2- Tic Tac Toe\n",
    "\n",
    "In this lab your will build a n x n Tic Tac Toe game. As you do the exercises, make sure your solutions work for any size Tic Tac Toe game. "
   ]
  },
  {
   "cell_type": "markdown",
   "metadata": {},
   "source": [
    "*Exercise 1:* Write a function that creates an n by n matrix (of list of lists) which will represent the state of a Tie Tac Toe game. Let 0, 1, and 2 represent empty, \"X\", and \"O\", respectively.\n"
   ]
  },
  {
   "cell_type": "code",
   "execution_count": 66,
   "metadata": {},
   "outputs": [],
   "source": [
    "# Write you solution here\n",
    "\n",
    "player_1 = 1 #X\n",
    "player_2 = 2 #O\n",
    "empty = 0 \n",
    "\n",
    "n=3\n",
    "m=3\n",
    "\n",
    "def make_game_board(n, m):\n",
    "    board=list()\n",
    "    \n",
    "    for i in range(n): \n",
    "        board.append([empty]*m)\n",
    "    \n",
    "    return board"
   ]
  },
  {
   "cell_type": "code",
   "execution_count": 6,
   "metadata": {},
   "outputs": [
    {
     "data": {
      "text/plain": [
       "[[0, 0, 0], [0, 0, 0], [0, 0, 0]]"
      ]
     },
     "execution_count": 6,
     "metadata": {},
     "output_type": "execute_result"
    }
   ],
   "source": [
    "# Test your solution here\n",
    "\n",
    "board1=make_game_board(3, 3)\n",
    "board1"
   ]
  },
  {
   "cell_type": "markdown",
   "metadata": {},
   "source": [
    "*Exercise 2:* Write a function that takes 2 integers `n` and `m` as input and draws a `n` by `m` game board. For example the following is a 3x3 board:\n",
    "```\n",
    "   --- --- --- \n",
    "  |   |   |   | \n",
    "   --- --- ---  \n",
    "  |   |   |   | \n",
    "   --- --- ---  \n",
    "  |   |   |   | \n",
    "   --- --- --- \n",
    "   ```"
   ]
  },
  {
   "cell_type": "code",
   "execution_count": 9,
   "metadata": {},
   "outputs": [],
   "source": [
    "# Write you solution here\n",
    "\n",
    "def draw_game_board():\n",
    "    \n",
    "    # #Takes two integers as input\n",
    "    while True:\n",
    "        try:\n",
    "            n=int(input(\"How many rows?:\"))\n",
    "            m=int(input(\"How many columns?:\"))\n",
    "            break\n",
    "        except ValueError:\n",
    "            print(\"Invalid Input. Please enter a valid integer\")\n",
    "\n",
    "    for row in range(n):\n",
    "        print('  ','--- '*m) \n",
    "        print('  |','  | '*m)\n",
    "    print('  ','--- '*m)\n",
    "\n",
    "    return \n",
    "\n"
   ]
  },
  {
   "cell_type": "code",
   "execution_count": 11,
   "metadata": {},
   "outputs": [
    {
     "name": "stdin",
     "output_type": "stream",
     "text": [
      "How many rows?: 3\n",
      "How many columns?: e\n"
     ]
    },
    {
     "name": "stdout",
     "output_type": "stream",
     "text": [
      "Invalid Input. Please enter a valid integer\n"
     ]
    },
    {
     "name": "stdin",
     "output_type": "stream",
     "text": [
      "How many rows?: 3\n",
      "How many columns?: 3\n"
     ]
    },
    {
     "name": "stdout",
     "output_type": "stream",
     "text": [
      "   --- --- --- \n",
      "  |   |   |   | \n",
      "   --- --- --- \n",
      "  |   |   |   | \n",
      "   --- --- --- \n",
      "  |   |   |   | \n",
      "   --- --- --- \n"
     ]
    }
   ],
   "source": [
    "# Test your solution here\n",
    "\n",
    "game1=draw_game_board()\n",
    "game1"
   ]
  },
  {
   "cell_type": "markdown",
   "metadata": {},
   "source": [
    "*Exercise 3:* Modify exercise 2, so that it takes a matrix of the form from exercise 1 and draws a tic-tac-tie board with \"X\"s and \"O\"s.  "
   ]
  },
  {
   "cell_type": "code",
   "execution_count": 74,
   "metadata": {},
   "outputs": [],
   "source": [
    "# Write you solution here\n",
    "\n",
    "#Defines players as 1, 2, and empty as 0\n",
    "player_1 = 1 #X\n",
    "player_2 = 2 #O\n",
    "empty = 0 \n",
    "\n",
    "def make_game_board():\n",
    "    board=list()\n",
    "\n",
    "    while True:\n",
    "        try:\n",
    "            n=int(input(\"How many rows?:\"))\n",
    "            m=int(input(\"How many columns?:\"))\n",
    "            \n",
    "            if n >0 and m>0:\n",
    "                break\n",
    "            \n",
    "            else: \n",
    "                print(\"Invalid input. Please make sure the integer is positive\")\n",
    "            \n",
    "        except ValueError:\n",
    "            print(\"Invalid Input. Please enter a valid integer\")\n",
    "    \n",
    "    for i in range(n): \n",
    "        board.append([empty]*m)\n",
    "    \n",
    "    return board      \n",
    "\n",
    "    \n",
    "def draw_game_board(board):\n",
    "\n",
    "    n=len(board)\n",
    "    m=len(board[0])\n",
    "\n",
    "    player_1_sym=\"X\"\n",
    "    player_2_sym=\"O\"\n",
    "    empty_space=\" \"\n",
    "    \n",
    "    space_sym= { player_1: player_1_sym,\n",
    "            player_2: player_2_sym,\n",
    "            empty: empty_space }\n",
    "    \n",
    "    for i in range(n):\n",
    "        print('  ','--- '*m) \n",
    "        print('  ',end='')\n",
    "\n",
    "        for j in range(m):\n",
    "            print('|',space_sym[board[i][j]],end=\" \")\n",
    "        print(\"|\")\n",
    "    print('  ','--- '*m)\n",
    "\n"
   ]
  },
  {
   "cell_type": "code",
   "execution_count": 6,
   "metadata": {},
   "outputs": [
    {
     "name": "stdin",
     "output_type": "stream",
     "text": [
      "How many rows?: 3\n",
      "How many columns?: 3\n"
     ]
    },
    {
     "name": "stdout",
     "output_type": "stream",
     "text": [
      "   --- --- --- \n",
      "  | X |   |   |\n",
      "   --- --- --- \n",
      "  |   | O |   |\n",
      "   --- --- --- \n",
      "  |   |   | X |\n",
      "   --- --- --- \n"
     ]
    }
   ],
   "source": [
    "# Test your solution here\n",
    "board2=make_game_board()\n",
    "board2[0][0]= player_1\n",
    "board2[1][1]= player_2\n",
    "board2[2][2]= player_1\n",
    "draw_game_board(board2)\n"
   ]
  },
  {
   "cell_type": "markdown",
   "metadata": {},
   "source": [
    "*Exercise 4:* Write a function that takes a `n` by `n` matrix representing a tic-tac-toe game, and returns -1, 0, 1, or 2 indicating the game is incomplete, the game is a draw, player 1 has won, or player 2 has one, respectively. Here are some example inputs you can use to test your code:"
   ]
  },
  {
   "cell_type": "code",
   "execution_count": 211,
   "metadata": {},
   "outputs": [],
   "source": [
    "# Write you solution here\n",
    "\n",
    "incomplete = -1\n",
    "draw = 0\n",
    "player_1_won = 1\n",
    "player_2_won = 2\n",
    "\n",
    "def all_same(a_list):\n",
    "    if len(a_list)==0: #check if list is empty\n",
    "        return False\n",
    "    for item in a_list:\n",
    "        if a_list[0]!=item: #check if first item is not equal to other items\n",
    "            return False\n",
    "    return a_list[0] #Return first item\n",
    "\n",
    "def transpose(board): \n",
    "    n=len(board)\n",
    "    m=len(board[0])\n",
    "\n",
    "    new_board=[[0]*n for _ in range(m)]\n",
    "\n",
    "    for i in range(len(board)):\n",
    "        for j in range(len(board[i])):\n",
    "            new_board[j][i]=board[i][j]\n",
    "    \n",
    "    return new_board\n",
    "\n",
    "def get_diagonal(board):\n",
    "    n=len(board)\n",
    "    \n",
    "    out_1=list()\n",
    "    out_2=list()\n",
    "    for i in range(n):\n",
    "        out_1.append(board[i][i])\n",
    "        out_2.append(board[i][n-i-1])\n",
    "    return [out_1, out_2]\n",
    "\n",
    "        \n",
    "def check_winner(board):\n",
    "    for row in board:\n",
    "        check = all_same(row)\n",
    "        if check:\n",
    "            return check\n",
    "\n",
    "    for col in transpose(board):\n",
    "        check = all_same(col)\n",
    "        if check:\n",
    "            return check\n",
    "\n",
    "    for diagonal in get_diagonal(board):\n",
    "        check = all_same(diagonal)\n",
    "        if check:\n",
    "            return check\n",
    "\n",
    "    for row in board:\n",
    "        if 0 in row:\n",
    "            return incomplete\n",
    "            \n",
    "    return draw\n",
    "\n",
    "     \n"
   ]
  },
  {
   "cell_type": "code",
   "execution_count": 193,
   "metadata": {},
   "outputs": [
    {
     "name": "stdout",
     "output_type": "stream",
     "text": [
      "Game is a draw.\n"
     ]
    },
    {
     "data": {
      "text/plain": [
       "3"
      ]
     },
     "execution_count": 193,
     "metadata": {},
     "output_type": "execute_result"
    }
   ],
   "source": [
    "check_winner(game_draw)"
   ]
  },
  {
   "cell_type": "code",
   "execution_count": 194,
   "metadata": {},
   "outputs": [],
   "source": [
    "winner_is_2 = [[2, 2, 0],\n",
    "\t[2, 1, 0],\n",
    "\t[2, 1, 1]]\n",
    "\n",
    "winner_is_also_2 = [[2, 2, 2],\n",
    "\t[2, 1, 0],\n",
    "\t[2, 1, 1]]\n",
    "\n",
    "winner_is_1 = [[1, 2, 0],\n",
    "\t[2, 1, 0],\n",
    "\t[2, 1, 1]]\n",
    "\n",
    "winner_is_also_1 = [[0, 1, 0],\n",
    "\t[2, 1, 0],\n",
    "\t[2, 1, 1]]\n",
    "\n",
    "no_winner = [[1, 2, 0],\n",
    "\t[2, 1, 0],\n",
    "\t[2, 1, 2]]\n",
    "\n",
    "also_no_winner = [[1, 2, 0],\n",
    "\t[2, 1, 0],\n",
    "\t[2, 1, 0]]\n",
    "\n",
    "game_draw=[[1, 2, 1],\n",
    "\t[2, 1, 2],\n",
    "\t[2, 1, 2]]"
   ]
  },
  {
   "cell_type": "markdown",
   "metadata": {},
   "source": [
    "*Exercise 5:* Write a function that takes a game board, player number, and `(x,y)` coordinates and places \"X\" or \"O\" in the correct location of the game board. Make sure that you only allow filling previously empty locations. Return `True` or `False` to indicate successful placement of \"X\" or \"O\"."
   ]
  },
  {
   "cell_type": "code",
   "execution_count": 77,
   "metadata": {},
   "outputs": [],
   "source": [
    "# Write you solution here\n",
    "\n",
    "def print_message(message,verbose=True):\n",
    "    if verbose:\n",
    "        print(message)\n",
    "\n",
    "def place_sym(board, player, location, verbose=True):\n",
    "    x,y=location\n",
    "\n",
    "    n=len(board)\n",
    "    m=len(board[0])\n",
    "\n",
    "    move_possible= x < n and \\\n",
    "                    x >= 0 and \\\n",
    "                    y < m and \\\n",
    "                    y >= 0\n",
    "   \n",
    "    if not (move_possible):\n",
    "        print_message(\"Move is off of board.\",verbose)\n",
    "        return False\n",
    "    \n",
    "    if move_possible and board[x][y] == 0:\n",
    "        board[x][y]=player\n",
    "        print_message(\"Placed symbol.\",verbose)      \n",
    "        return True\n",
    "    \n",
    "    else:\n",
    "        print_message(\"Move not possible.\",verbose)\n",
    "        return False\n",
    "    "
   ]
  },
  {
   "cell_type": "code",
   "execution_count": 230,
   "metadata": {},
   "outputs": [
    {
     "name": "stdin",
     "output_type": "stream",
     "text": [
      "How many rows?: 3\n",
      "How many columns?: 3\n"
     ]
    },
    {
     "data": {
      "text/plain": [
       "[[0, 0, 0], [0, 0, 0], [0, 0, 0]]"
      ]
     },
     "execution_count": 230,
     "metadata": {},
     "output_type": "execute_result"
    }
   ],
   "source": [
    "# Test your solution here\n",
    "\n",
    "board3=make_game_board()\n",
    "board3"
   ]
  },
  {
   "cell_type": "code",
   "execution_count": 231,
   "metadata": {},
   "outputs": [
    {
     "name": "stdout",
     "output_type": "stream",
     "text": [
      "Placed symbol.\n"
     ]
    },
    {
     "data": {
      "text/plain": [
       "[[0, 0, 0], [0, 1, 0], [0, 0, 0]]"
      ]
     },
     "execution_count": 231,
     "metadata": {},
     "output_type": "execute_result"
    }
   ],
   "source": [
    "place_sym(board3, player_1, (1,1), verbose=True)\n",
    "board3"
   ]
  },
  {
   "cell_type": "markdown",
   "metadata": {},
   "source": [
    "*Exercise 6:* Modify Exercise 3 to show column and row labels so that players can specify location using \"A2\" or \"C1\"."
   ]
  },
  {
   "cell_type": "code",
   "execution_count": 106,
   "metadata": {},
   "outputs": [],
   "source": [
    "# Write you solution here\n",
    "\n",
    "\n",
    "def draw_game_board(board):\n",
    "    \n",
    "    n=len(board)\n",
    "    m=len(board[0])\n",
    "    \n",
    "    row_names=list(\"ABCDEFGHIJKLMNOPQRSTUVWXYZ\")\n",
    "    row_map=dict(zip(row_names,range(n)))\n",
    "    \n",
    "    column_names=list(map(str,range(1,m+1)))\n",
    "    column_map=dict(zip(column_names,range(m)))\n",
    "\n",
    "    player_1_sym=\"X\"\n",
    "    player_2_sym=\"O\"\n",
    "    empty_space=\" \"\n",
    "    \n",
    "    space_sym= { player_1: player_1_sym,\n",
    "            player_2: player_2_sym,\n",
    "            empty: empty_space }\n",
    "    \n",
    "    print(\" \",end=\" \")\n",
    "    for j in range(m):\n",
    "        print(' ',column_names[j],end=\" \") \n",
    "    print()\n",
    "        \n",
    "    for i in range(n):\n",
    "        print('  ','--- '*m) \n",
    "        print(row_names[i],end=\" \") \n",
    "        \n",
    "        for j in range(m):\n",
    "            print('|',space_sym[board[i][j]],end=\" \")\n",
    "        print(\"|\")\n",
    "    print('  ','--- '*m)"
   ]
  },
  {
   "cell_type": "code",
   "execution_count": 232,
   "metadata": {},
   "outputs": [
    {
     "name": "stdout",
     "output_type": "stream",
     "text": [
      "    1   2   3 \n",
      "   --- --- --- \n",
      "A |   |   |   |\n",
      "   --- --- --- \n",
      "B |   | X |   |\n",
      "   --- --- --- \n",
      "C |   |   |   |\n",
      "   --- --- --- \n"
     ]
    }
   ],
   "source": [
    "# Test your solution here\n",
    "\n",
    "draw_game_board(board3)"
   ]
  },
  {
   "cell_type": "markdown",
   "metadata": {},
   "source": [
    "*Exercise 7:* Write a function that takes a board, player number, and location specified as in exercise 6 and then calls exercise 5 to correctly modify the board.  "
   ]
  },
  {
   "cell_type": "code",
   "execution_count": 221,
   "metadata": {},
   "outputs": [],
   "source": [
    "# Write you solution here\n",
    "def parse_location(board, player, l_string):\n",
    "\n",
    "    n=len(board)\n",
    "    m=len(board[0])\n",
    "\n",
    "    row_names=list(\"ABCDEFGHIJKLMNOPQRSTUVWXYZ\")\n",
    "    row_map=dict(zip(row_names,range(n)))\n",
    "    \n",
    "    column_names=list(map(str,range(1,m+1)))\n",
    "    column_map=dict(zip(column_names,range(m)))\n",
    "    \n",
    "    if not isinstance(l_string,str):\n",
    "        print_message(\"Invalid Input. Location must be string.\")\n",
    "        return False\n",
    "    \n",
    "    if len(l_string)!=2:\n",
    "        print_message(\"Invalid Input. Location must be 2 characters.\")\n",
    "        return False\n",
    "    \n",
    "    row=l_string[0].upper()\n",
    "    col=l_string[1].upper()\n",
    "    \n",
    "    if not row in row_names:\n",
    "        print_message(\"Invalid Row.\")\n",
    "        return False\n",
    "\n",
    "    if not col in column_names:\n",
    "        print_message(\"Invalid Column.\")\n",
    "        return False\n",
    "\n",
    "    return row_map[row],column_map[col]"
   ]
  },
  {
   "cell_type": "code",
   "execution_count": 222,
   "metadata": {},
   "outputs": [],
   "source": [
    "def nice_move_piece(board,player,location):\n",
    "    loc=parse_location(board,player,location)\n",
    "    \n",
    "    if loc!= False:\n",
    "        return place_sym(board, player, loc, verbose=True)\n",
    "    else:\n",
    "        return False "
   ]
  },
  {
   "cell_type": "code",
   "execution_count": 236,
   "metadata": {},
   "outputs": [
    {
     "name": "stdout",
     "output_type": "stream",
     "text": [
      "    1   2   3 \n",
      "   --- --- --- \n",
      "A |   |   |   |\n",
      "   --- --- --- \n",
      "B | X | X | X |\n",
      "   --- --- --- \n",
      "C |   |   |   |\n",
      "   --- --- --- \n",
      "Move not possible.\n"
     ]
    },
    {
     "data": {
      "text/plain": [
       "[[0, 0, 0], [1, 1, 1], [0, 0, 0]]"
      ]
     },
     "execution_count": 236,
     "metadata": {},
     "output_type": "execute_result"
    }
   ],
   "source": [
    "# Test your solution here\n",
    "draw_game_board(board3)\n",
    "nice_move_piece(board3, player_1, \"B1\")\n",
    "board3"
   ]
  },
  {
   "cell_type": "code",
   "execution_count": 237,
   "metadata": {},
   "outputs": [
    {
     "name": "stdin",
     "output_type": "stream",
     "text": [
      "How many rows?: 3\n",
      "How many columns?: 3\n"
     ]
    },
    {
     "name": "stdout",
     "output_type": "stream",
     "text": [
      "    1   2   3 \n",
      "   --- --- --- \n",
      "A |   |   |   |\n",
      "   --- --- --- \n",
      "B |   |   |   |\n",
      "   --- --- --- \n",
      "C |   |   |   |\n",
      "   --- --- --- \n",
      "Placed symbol.\n",
      "    1   2   3 \n",
      "   --- --- --- \n",
      "A |   |   |   |\n",
      "   --- --- --- \n",
      "B |   |   | X |\n",
      "   --- --- --- \n",
      "C |   |   |   |\n",
      "   --- --- --- \n"
     ]
    }
   ],
   "source": [
    "board_0=make_game_board()\n",
    "draw_game_board(board_0)\n",
    "nice_move_piece(board_0,player_1,\"B3\")\n",
    "draw_game_board(board_0)"
   ]
  },
  {
   "cell_type": "markdown",
   "metadata": {},
   "source": [
    "*Exercise 8:* Write a function is called with a board and player number, takes input from the player using python's `input`, and modifies the board using your function from exercise 7. Note that you should keep asking for input until you have gotten a valid input that results in a valid move."
   ]
  },
  {
   "cell_type": "code",
   "execution_count": 238,
   "metadata": {},
   "outputs": [],
   "source": [
    "# Write you solution here\n",
    "\n",
    "def take_move(board,player):\n",
    "    good_move=False\n",
    "    \n",
    "    while not good_move:\n",
    "        loc_str =input(\"Input location:\")\n",
    "            \n",
    "        good_move = nice_move_piece(board,player,loc_str)\n"
   ]
  },
  {
   "cell_type": "code",
   "execution_count": 241,
   "metadata": {},
   "outputs": [
    {
     "name": "stdin",
     "output_type": "stream",
     "text": [
      "How many rows?: 3\n",
      "How many columns?: 3\n"
     ]
    },
    {
     "name": "stdout",
     "output_type": "stream",
     "text": [
      "    1   2   3 \n",
      "   --- --- --- \n",
      "A |   |   |   |\n",
      "   --- --- --- \n",
      "B |   |   |   |\n",
      "   --- --- --- \n",
      "C |   |   |   |\n",
      "   --- --- --- \n"
     ]
    },
    {
     "name": "stdin",
     "output_type": "stream",
     "text": [
      "Input location: b4\n"
     ]
    },
    {
     "name": "stdout",
     "output_type": "stream",
     "text": [
      "Invalid Column.\n"
     ]
    },
    {
     "name": "stdin",
     "output_type": "stream",
     "text": [
      "Input location: b2\n"
     ]
    },
    {
     "name": "stdout",
     "output_type": "stream",
     "text": [
      "Placed symbol.\n",
      "    1   2   3 \n",
      "   --- --- --- \n",
      "A |   |   |   |\n",
      "   --- --- --- \n",
      "B |   | X |   |\n",
      "   --- --- --- \n",
      "C |   |   |   |\n",
      "   --- --- --- \n"
     ]
    }
   ],
   "source": [
    "# Test your solution here\n",
    "\n",
    "board_0=make_game_board()\n",
    "draw_game_board(board_0)\n",
    "take_move(board_0,player_1)\n",
    "draw_game_board(board_0)\n"
   ]
  },
  {
   "cell_type": "markdown",
   "metadata": {},
   "source": [
    "*Exercise 9:* Use all of the previous exercises to implement a full tic-tac-toe game, where an appropriate board is drawn, 2 players are repeatedly asked for a location coordinates of where they wish to place a mark, and the game status is checked until a player wins or a draw occurs."
   ]
  },
  {
   "cell_type": "code",
   "execution_count": 224,
   "metadata": {},
   "outputs": [],
   "source": [
    "# Write you solution here\n",
    "\n",
    "def tic_tac_toe():\n",
    "    print(\"~Welcome to tic-tac-toe~\")\n",
    "    print(\"________________________\")\n",
    "\n",
    "    board_0=make_game_board()\n",
    "\n",
    "    player=player_1\n",
    "\n",
    "    while True:\n",
    "        # Draw the board\n",
    "        draw_game_board(board_0)\n",
    "        \n",
    "        # Make a move\n",
    "        print(\"Player\",player,\"move:\")\n",
    "        take_move(board_0,player)\n",
    "\n",
    "        # Check if the game has been won\n",
    "        this_game_won=check_winner(board_0)\n",
    "\n",
    "        if this_game_won == 1 or this_game_won == 2:  \n",
    "            draw_game_board(board_0)  \n",
    "            print(f\"Game over! Player {this_game_won} has won!\")\n",
    "            break \n",
    "\n",
    "        elif this_game_won == draw:  \n",
    "            draw_game_board(board_0) \n",
    "            print(\"It's a draw!\")\n",
    "            break  \n",
    "\n",
    "        # Switch players\n",
    "        player = player_2 if player == player_1 else player_1\n",
    "\n",
    "            "
   ]
  },
  {
   "cell_type": "code",
   "execution_count": 226,
   "metadata": {},
   "outputs": [
    {
     "name": "stdout",
     "output_type": "stream",
     "text": [
      "~Welcome to tic-tac-toe~\n",
      "________________________\n"
     ]
    },
    {
     "name": "stdin",
     "output_type": "stream",
     "text": [
      "How many rows?: 3\n",
      "How many columns?: 3\n"
     ]
    },
    {
     "name": "stdout",
     "output_type": "stream",
     "text": [
      "    1   2   3 \n",
      "   --- --- --- \n",
      "A |   |   |   |\n",
      "   --- --- --- \n",
      "B |   |   |   |\n",
      "   --- --- --- \n",
      "C |   |   |   |\n",
      "   --- --- --- \n",
      "Player 1 move:\n"
     ]
    },
    {
     "name": "stdin",
     "output_type": "stream",
     "text": [
      "Input location: a2\n"
     ]
    },
    {
     "name": "stdout",
     "output_type": "stream",
     "text": [
      "Placed symbol.\n",
      "    1   2   3 \n",
      "   --- --- --- \n",
      "A |   | X |   |\n",
      "   --- --- --- \n",
      "B |   |   |   |\n",
      "   --- --- --- \n",
      "C |   |   |   |\n",
      "   --- --- --- \n",
      "Player 2 move:\n"
     ]
    },
    {
     "name": "stdin",
     "output_type": "stream",
     "text": [
      "Input location: a1\n"
     ]
    },
    {
     "name": "stdout",
     "output_type": "stream",
     "text": [
      "Placed symbol.\n",
      "    1   2   3 \n",
      "   --- --- --- \n",
      "A | O | X |   |\n",
      "   --- --- --- \n",
      "B |   |   |   |\n",
      "   --- --- --- \n",
      "C |   |   |   |\n",
      "   --- --- --- \n",
      "Player 1 move:\n"
     ]
    },
    {
     "name": "stdin",
     "output_type": "stream",
     "text": [
      "Input location: a3\n"
     ]
    },
    {
     "name": "stdout",
     "output_type": "stream",
     "text": [
      "Placed symbol.\n",
      "    1   2   3 \n",
      "   --- --- --- \n",
      "A | O | X | X |\n",
      "   --- --- --- \n",
      "B |   |   |   |\n",
      "   --- --- --- \n",
      "C |   |   |   |\n",
      "   --- --- --- \n",
      "Player 2 move:\n"
     ]
    },
    {
     "name": "stdin",
     "output_type": "stream",
     "text": [
      "Input location: b2\n"
     ]
    },
    {
     "name": "stdout",
     "output_type": "stream",
     "text": [
      "Placed symbol.\n",
      "    1   2   3 \n",
      "   --- --- --- \n",
      "A | O | X | X |\n",
      "   --- --- --- \n",
      "B |   | O |   |\n",
      "   --- --- --- \n",
      "C |   |   |   |\n",
      "   --- --- --- \n",
      "Player 1 move:\n"
     ]
    },
    {
     "name": "stdin",
     "output_type": "stream",
     "text": [
      "Input location: c3\n"
     ]
    },
    {
     "name": "stdout",
     "output_type": "stream",
     "text": [
      "Placed symbol.\n",
      "    1   2   3 \n",
      "   --- --- --- \n",
      "A | O | X | X |\n",
      "   --- --- --- \n",
      "B |   | O |   |\n",
      "   --- --- --- \n",
      "C |   |   | X |\n",
      "   --- --- --- \n",
      "Player 2 move:\n"
     ]
    },
    {
     "name": "stdin",
     "output_type": "stream",
     "text": [
      "Input location: b1\n"
     ]
    },
    {
     "name": "stdout",
     "output_type": "stream",
     "text": [
      "Placed symbol.\n",
      "    1   2   3 \n",
      "   --- --- --- \n",
      "A | O | X | X |\n",
      "   --- --- --- \n",
      "B | O | O |   |\n",
      "   --- --- --- \n",
      "C |   |   | X |\n",
      "   --- --- --- \n",
      "Player 1 move:\n"
     ]
    },
    {
     "name": "stdin",
     "output_type": "stream",
     "text": [
      "Input location: c2\n"
     ]
    },
    {
     "name": "stdout",
     "output_type": "stream",
     "text": [
      "Placed symbol.\n",
      "    1   2   3 \n",
      "   --- --- --- \n",
      "A | O | X | X |\n",
      "   --- --- --- \n",
      "B | O | O |   |\n",
      "   --- --- --- \n",
      "C |   | X | X |\n",
      "   --- --- --- \n",
      "Player 2 move:\n"
     ]
    },
    {
     "name": "stdin",
     "output_type": "stream",
     "text": [
      "Input location: c1\n"
     ]
    },
    {
     "name": "stdout",
     "output_type": "stream",
     "text": [
      "Placed symbol.\n",
      "    1   2   3 \n",
      "   --- --- --- \n",
      "A | O | X | X |\n",
      "   --- --- --- \n",
      "B | O | O |   |\n",
      "   --- --- --- \n",
      "C | O | X | X |\n",
      "   --- --- --- \n",
      "Game over! Player 2 has won!\n"
     ]
    }
   ],
   "source": [
    "tic_tac_toe()\n"
   ]
  },
  {
   "cell_type": "markdown",
   "metadata": {},
   "source": [
    "*Exercise 10:* Test that your game works for 5x5 Tic Tac Toe.  "
   ]
  },
  {
   "cell_type": "code",
   "execution_count": 228,
   "metadata": {},
   "outputs": [
    {
     "name": "stdout",
     "output_type": "stream",
     "text": [
      "~Welcome to tic-tac-toe~\n",
      "________________________\n"
     ]
    },
    {
     "name": "stdin",
     "output_type": "stream",
     "text": [
      "How many rows?: 5\n",
      "How many columns?: 5\n"
     ]
    },
    {
     "name": "stdout",
     "output_type": "stream",
     "text": [
      "    1   2   3   4   5 \n",
      "   --- --- --- --- --- \n",
      "A |   |   |   |   |   |\n",
      "   --- --- --- --- --- \n",
      "B |   |   |   |   |   |\n",
      "   --- --- --- --- --- \n",
      "C |   |   |   |   |   |\n",
      "   --- --- --- --- --- \n",
      "D |   |   |   |   |   |\n",
      "   --- --- --- --- --- \n",
      "E |   |   |   |   |   |\n",
      "   --- --- --- --- --- \n",
      "Player 1 move:\n"
     ]
    },
    {
     "name": "stdin",
     "output_type": "stream",
     "text": [
      "Input location: a1\n"
     ]
    },
    {
     "name": "stdout",
     "output_type": "stream",
     "text": [
      "Placed symbol.\n",
      "    1   2   3   4   5 \n",
      "   --- --- --- --- --- \n",
      "A | X |   |   |   |   |\n",
      "   --- --- --- --- --- \n",
      "B |   |   |   |   |   |\n",
      "   --- --- --- --- --- \n",
      "C |   |   |   |   |   |\n",
      "   --- --- --- --- --- \n",
      "D |   |   |   |   |   |\n",
      "   --- --- --- --- --- \n",
      "E |   |   |   |   |   |\n",
      "   --- --- --- --- --- \n",
      "Player 2 move:\n"
     ]
    },
    {
     "name": "stdin",
     "output_type": "stream",
     "text": [
      "Input location: b4\n"
     ]
    },
    {
     "name": "stdout",
     "output_type": "stream",
     "text": [
      "Placed symbol.\n",
      "    1   2   3   4   5 \n",
      "   --- --- --- --- --- \n",
      "A | X |   |   |   |   |\n",
      "   --- --- --- --- --- \n",
      "B |   |   |   | O |   |\n",
      "   --- --- --- --- --- \n",
      "C |   |   |   |   |   |\n",
      "   --- --- --- --- --- \n",
      "D |   |   |   |   |   |\n",
      "   --- --- --- --- --- \n",
      "E |   |   |   |   |   |\n",
      "   --- --- --- --- --- \n",
      "Player 1 move:\n"
     ]
    },
    {
     "name": "stdin",
     "output_type": "stream",
     "text": [
      "Input location: b2\n"
     ]
    },
    {
     "name": "stdout",
     "output_type": "stream",
     "text": [
      "Placed symbol.\n",
      "    1   2   3   4   5 \n",
      "   --- --- --- --- --- \n",
      "A | X |   |   |   |   |\n",
      "   --- --- --- --- --- \n",
      "B |   | X |   | O |   |\n",
      "   --- --- --- --- --- \n",
      "C |   |   |   |   |   |\n",
      "   --- --- --- --- --- \n",
      "D |   |   |   |   |   |\n",
      "   --- --- --- --- --- \n",
      "E |   |   |   |   |   |\n",
      "   --- --- --- --- --- \n",
      "Player 2 move:\n"
     ]
    },
    {
     "name": "stdin",
     "output_type": "stream",
     "text": [
      "Input location: b5\n"
     ]
    },
    {
     "name": "stdout",
     "output_type": "stream",
     "text": [
      "Placed symbol.\n",
      "    1   2   3   4   5 \n",
      "   --- --- --- --- --- \n",
      "A | X |   |   |   |   |\n",
      "   --- --- --- --- --- \n",
      "B |   | X |   | O | O |\n",
      "   --- --- --- --- --- \n",
      "C |   |   |   |   |   |\n",
      "   --- --- --- --- --- \n",
      "D |   |   |   |   |   |\n",
      "   --- --- --- --- --- \n",
      "E |   |   |   |   |   |\n",
      "   --- --- --- --- --- \n",
      "Player 1 move:\n"
     ]
    },
    {
     "name": "stdin",
     "output_type": "stream",
     "text": [
      "Input location: c3\n"
     ]
    },
    {
     "name": "stdout",
     "output_type": "stream",
     "text": [
      "Placed symbol.\n",
      "    1   2   3   4   5 \n",
      "   --- --- --- --- --- \n",
      "A | X |   |   |   |   |\n",
      "   --- --- --- --- --- \n",
      "B |   | X |   | O | O |\n",
      "   --- --- --- --- --- \n",
      "C |   |   | X |   |   |\n",
      "   --- --- --- --- --- \n",
      "D |   |   |   |   |   |\n",
      "   --- --- --- --- --- \n",
      "E |   |   |   |   |   |\n",
      "   --- --- --- --- --- \n",
      "Player 2 move:\n"
     ]
    },
    {
     "name": "stdin",
     "output_type": "stream",
     "text": [
      "Input location: a5\n"
     ]
    },
    {
     "name": "stdout",
     "output_type": "stream",
     "text": [
      "Placed symbol.\n",
      "    1   2   3   4   5 \n",
      "   --- --- --- --- --- \n",
      "A | X |   |   |   | O |\n",
      "   --- --- --- --- --- \n",
      "B |   | X |   | O | O |\n",
      "   --- --- --- --- --- \n",
      "C |   |   | X |   |   |\n",
      "   --- --- --- --- --- \n",
      "D |   |   |   |   |   |\n",
      "   --- --- --- --- --- \n",
      "E |   |   |   |   |   |\n",
      "   --- --- --- --- --- \n",
      "Player 1 move:\n"
     ]
    },
    {
     "name": "stdin",
     "output_type": "stream",
     "text": [
      "Input location: d4\n"
     ]
    },
    {
     "name": "stdout",
     "output_type": "stream",
     "text": [
      "Placed symbol.\n",
      "    1   2   3   4   5 \n",
      "   --- --- --- --- --- \n",
      "A | X |   |   |   | O |\n",
      "   --- --- --- --- --- \n",
      "B |   | X |   | O | O |\n",
      "   --- --- --- --- --- \n",
      "C |   |   | X |   |   |\n",
      "   --- --- --- --- --- \n",
      "D |   |   |   | X |   |\n",
      "   --- --- --- --- --- \n",
      "E |   |   |   |   |   |\n",
      "   --- --- --- --- --- \n",
      "Player 2 move:\n"
     ]
    },
    {
     "name": "stdin",
     "output_type": "stream",
     "text": [
      "Input location: c5\n"
     ]
    },
    {
     "name": "stdout",
     "output_type": "stream",
     "text": [
      "Placed symbol.\n",
      "    1   2   3   4   5 \n",
      "   --- --- --- --- --- \n",
      "A | X |   |   |   | O |\n",
      "   --- --- --- --- --- \n",
      "B |   | X |   | O | O |\n",
      "   --- --- --- --- --- \n",
      "C |   |   | X |   | O |\n",
      "   --- --- --- --- --- \n",
      "D |   |   |   | X |   |\n",
      "   --- --- --- --- --- \n",
      "E |   |   |   |   |   |\n",
      "   --- --- --- --- --- \n",
      "Player 1 move:\n"
     ]
    },
    {
     "name": "stdin",
     "output_type": "stream",
     "text": [
      "Input location: e5\n"
     ]
    },
    {
     "name": "stdout",
     "output_type": "stream",
     "text": [
      "Placed symbol.\n",
      "    1   2   3   4   5 \n",
      "   --- --- --- --- --- \n",
      "A | X |   |   |   | O |\n",
      "   --- --- --- --- --- \n",
      "B |   | X |   | O | O |\n",
      "   --- --- --- --- --- \n",
      "C |   |   | X |   | O |\n",
      "   --- --- --- --- --- \n",
      "D |   |   |   | X |   |\n",
      "   --- --- --- --- --- \n",
      "E |   |   |   |   | X |\n",
      "   --- --- --- --- --- \n",
      "Game over! Player 1 has won!\n"
     ]
    }
   ],
   "source": [
    "# Test your solution here\n",
    "\n",
    "tic_tac_toe()"
   ]
  },
  {
   "cell_type": "markdown",
   "metadata": {},
   "source": [
    "*Exercise 11:* (Advanced / Challenge) Develop a version of the game where one player is the computer. Note that you don't need to do an extensive seach for the best move. You can have the computer simply protect against loosing and otherwise try to win with straight or diagonal patterns."
   ]
  },
  {
   "cell_type": "code",
   "execution_count": null,
   "metadata": {
    "collapsed": true,
    "jupyter": {
     "outputs_hidden": true
    }
   },
   "outputs": [],
   "source": [
    "# Write you solution here"
   ]
  },
  {
   "cell_type": "code",
   "execution_count": null,
   "metadata": {
    "collapsed": true,
    "jupyter": {
     "outputs_hidden": true
    }
   },
   "outputs": [],
   "source": [
    "# Test your solution here"
   ]
  }
 ],
 "metadata": {
  "kernelspec": {
   "display_name": "Python 3 (ipykernel)",
   "language": "python",
   "name": "python3"
  },
  "language_info": {
   "codemirror_mode": {
    "name": "ipython",
    "version": 3
   },
   "file_extension": ".py",
   "mimetype": "text/x-python",
   "name": "python",
   "nbconvert_exporter": "python",
   "pygments_lexer": "ipython3",
   "version": "3.12.7"
  }
 },
 "nbformat": 4,
 "nbformat_minor": 4
}
