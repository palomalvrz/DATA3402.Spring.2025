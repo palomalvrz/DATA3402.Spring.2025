{
 "cells": [
  {
   "cell_type": "markdown",
   "metadata": {},
   "source": [
    "# Lab 6"
   ]
  },
  {
   "cell_type": "markdown",
   "metadata": {},
   "source": [
    "You are tasked with evaluating card counting strategies for black jack. In order to do so, you will use object oriented programming to create a playable casino style black jack game where a computer dealer plays against $n$ computer players and possibily one human player. If you don't know the rules of blackjack or card counting, please google it. \n",
    "\n",
    "A few requirements:\n",
    "* The game should utilize multiple 52-card decks. Typically the game is played with 6 decks.\n",
    "* Players should have chips.\n",
    "* Dealer's actions are predefined by rules of the game (typically hit on 16). \n",
    "* The players should be aware of all shown cards so that they can count cards.\n",
    "* Each player could have a different strategy.\n",
    "* The system should allow you to play large numbers of games, study the outcomes, and compare average winnings per hand rate for different strategies."
   ]
  },
  {
   "cell_type": "code",
   "execution_count": 1,
   "metadata": {},
   "outputs": [],
   "source": [
    "import random"
   ]
  },
  {
   "cell_type": "code",
   "execution_count": 2,
   "metadata": {},
   "outputs": [
    {
     "name": "stdout",
     "output_type": "stream",
     "text": [
      "52\n"
     ]
    }
   ],
   "source": [
    "#From Quiz 2:\n",
    "\n",
    "suits = ['Clubs', 'Diamonds', 'Hearts', 'Spades'] \n",
    "values = [2, 3, 4, 5, 6, 7, 8, 9, 10, 'Jack', 'Queen', 'King', 'Ace']\n",
    "\n",
    "def make_deck():\n",
    "    deck = [(suit, value) for suit in suits for value in values]\n",
    "    return deck\n",
    "\n",
    "# Testing the function\n",
    "deck = make_deck()\n",
    "print(len(deck))  # Should print 52\n"
   ]
  },
  {
   "cell_type": "code",
   "execution_count": 3,
   "metadata": {},
   "outputs": [
    {
     "data": {
      "text/plain": [
       "[('Clubs', 2),\n",
       " ('Clubs', 3),\n",
       " ('Clubs', 4),\n",
       " ('Clubs', 5),\n",
       " ('Clubs', 6),\n",
       " ('Clubs', 7),\n",
       " ('Clubs', 8),\n",
       " ('Clubs', 9),\n",
       " ('Clubs', 10),\n",
       " ('Clubs', 'Jack'),\n",
       " ('Clubs', 'Queen'),\n",
       " ('Clubs', 'King'),\n",
       " ('Clubs', 'Ace'),\n",
       " ('Diamonds', 2),\n",
       " ('Diamonds', 3),\n",
       " ('Diamonds', 4),\n",
       " ('Diamonds', 5),\n",
       " ('Diamonds', 6),\n",
       " ('Diamonds', 7),\n",
       " ('Diamonds', 8),\n",
       " ('Diamonds', 9),\n",
       " ('Diamonds', 10),\n",
       " ('Diamonds', 'Jack'),\n",
       " ('Diamonds', 'Queen'),\n",
       " ('Diamonds', 'King'),\n",
       " ('Diamonds', 'Ace'),\n",
       " ('Hearts', 2),\n",
       " ('Hearts', 3),\n",
       " ('Hearts', 4),\n",
       " ('Hearts', 5),\n",
       " ('Hearts', 6),\n",
       " ('Hearts', 7),\n",
       " ('Hearts', 8),\n",
       " ('Hearts', 9),\n",
       " ('Hearts', 10),\n",
       " ('Hearts', 'Jack'),\n",
       " ('Hearts', 'Queen'),\n",
       " ('Hearts', 'King'),\n",
       " ('Hearts', 'Ace'),\n",
       " ('Spades', 2),\n",
       " ('Spades', 3),\n",
       " ('Spades', 4),\n",
       " ('Spades', 5),\n",
       " ('Spades', 6),\n",
       " ('Spades', 7),\n",
       " ('Spades', 8),\n",
       " ('Spades', 9),\n",
       " ('Spades', 10),\n",
       " ('Spades', 'Jack'),\n",
       " ('Spades', 'Queen'),\n",
       " ('Spades', 'King'),\n",
       " ('Spades', 'Ace')]"
      ]
     },
     "execution_count": 3,
     "metadata": {},
     "output_type": "execute_result"
    }
   ],
   "source": [
    "deck #Show all cards"
   ]
  },
  {
   "cell_type": "code",
   "execution_count": 19,
   "metadata": {},
   "outputs": [],
   "source": [
    "#Defining levels of output (logging)\n",
    "#This will be the base for Card class\n",
    "\n",
    "class base:\n",
    "    SILENT=6\n",
    "    DEBUG=1\n",
    "    INFO=2\n",
    "    WARNING=3\n",
    "    ERROR=4\n",
    "    CRITICAL=5\n",
    "\n",
    "    def __init__(self, level=0):\n",
    "        self.level=level\n",
    "    \n",
    "    def message (self, level, *args):\n",
    "        #Send message if level is higher than current level\n",
    "        if level >=self.level: \n",
    "            print(*args)\n",
    "    "
   ]
  },
  {
   "cell_type": "markdown",
   "metadata": {},
   "source": [
    "1. Begin by creating a classes to represent cards and decks. The deck should support more than one 52-card set. The deck should allow you to shuffle and draw cards. Include a \"plastic\" card, placed randomly in the deck. Later, when the plastic card is dealt, shuffle the cards before the next deal."
   ]
  },
  {
   "cell_type": "code",
   "execution_count": 54,
   "metadata": {},
   "outputs": [],
   "source": [
    "class Card(base):\n",
    "    \n",
    "    __suits = ['Clubs', 'Diamonds', 'Hearts', 'Spades'] \n",
    "    __values = [2, 3, 4, 5, 6, 7, 8, 9, 10, 'Jack', 'Queen', 'King', 'Ace']\n",
    "\n",
    "    def __init__(self, suit, value=None):\n",
    "        base.__init__(self)\n",
    "        \n",
    "        #Shuffle card handling\n",
    "        if suit == \"ShuffleCard\":\n",
    "            self.__suit= \"ShuffleCard\"\n",
    "            self.__value= None\n",
    "        \n",
    "        else:\n",
    "            #Make sure suits and values are in their list\n",
    "            self.__suit = suit if suit in self.__suits else None\n",
    "            self.__value = value if value in self.__values else None\n",
    "    \n",
    "            #Error message if suit or value is not in their list\n",
    "            if self.__suit is None:\n",
    "                self.message(self.ERROR, \"Error, invalid suit:\", suit)\n",
    "    \n",
    "            if self.__value is None:\n",
    "                self.message(self.ERROR, \"Error, invalid value:\", value)\n",
    "\n",
    "    #Accessors \n",
    "    def suit(self):\n",
    "        return self.__suit\n",
    "        \n",
    "    def value(self):\n",
    "        return self.__value\n",
    "\n",
    "    def numerical_value(self):\n",
    "        #Aces can be 1 or 11, need special handling\n",
    "        if self.__value == 'Ace':\n",
    "            return 1\n",
    "\n",
    "        #J, Q, K are 10\n",
    "        elif self.__value in ['Jack', 'Queen', 'King']:\n",
    "            return 10\n",
    "\n",
    "        else:\n",
    "            return self.__value\n",
    "\n",
    "    #Make sure its a shuffle card\n",
    "    def shuffle_card(self):\n",
    "        return self.__suit ==\"ShuffleCard\"\n",
    "\n",
    "    #Correctly return str with name of card\n",
    "    def __str__(self):\n",
    "        if self.shuffle_card():\n",
    "            return \"Shuffle Card\"\n",
    "\n",
    "        else:\n",
    "            return str(self.__value) + \"  of  \" + self.__suit\n",
    "        \n",
    "    __repr__ = __str__\n",
    "        "
   ]
  },
  {
   "cell_type": "code",
   "execution_count": null,
   "metadata": {},
   "outputs": [],
   "source": []
  },
  {
   "cell_type": "code",
   "execution_count": 42,
   "metadata": {},
   "outputs": [
    {
     "data": {
      "text/plain": [
       "True"
      ]
     },
     "execution_count": 42,
     "metadata": {},
     "output_type": "execute_result"
    }
   ],
   "source": [
    "card0=Card(\"ShuffleCard\")\n",
    "card0.shuffle_card()"
   ]
  },
  {
   "cell_type": "code",
   "execution_count": 59,
   "metadata": {},
   "outputs": [
    {
     "name": "stdout",
     "output_type": "stream",
     "text": [
      "Clubs\n",
      "3\n",
      "3\n",
      "Diamonds\n",
      "5\n",
      "5\n"
     ]
    }
   ],
   "source": [
    "card0=Card(\"Clubs\",3)\n",
    "print(card0.suit())\n",
    "print(card0.value())\n",
    "print(card0.numerical_value())\n",
    "\n",
    "card0=Card(\"Diamonds\",5)\n",
    "print(card0.suit())\n",
    "print(card0.value())\n",
    "print(card0.numerical_value())"
   ]
  },
  {
   "cell_type": "code",
   "execution_count": 66,
   "metadata": {},
   "outputs": [],
   "source": [
    "class Deck(base):\n",
    "    __suits = ['Clubs', 'Diamonds', 'Hearts', 'Spades'] \n",
    "    __values = [2, 3, 4, 5, 6, 7, 8, 9, 10, 'Jack', 'Queen', 'King', 'Ace']\n",
    "\n",
    "\n",
    "    #Initialize deck class with 6 decks by default\n",
    "    def __init__(self,n_decks=6):\n",
    "        base.__init__(self)\n",
    "        self.__n_decks=n_decks\n",
    "\n",
    "        #List of cards in deck, should hold more than 52\n",
    "        self.__cards=list()\n",
    "\n",
    "        #Add another 52 cards at the end of our deck each iteration\n",
    "        for _ in range(self.__n_decks):\n",
    "            self.__cards.extend(self.__make_deck())\n",
    "\n",
    "\n",
    "        #Insert shuffle card \n",
    "        shuff_card_index=random.randint(234,265) #75%-85% penetration for 6 decks\n",
    "        self.__cards.insert(shuff_card_index,Card(\"ShuffleCard\"))\n",
    "\n",
    "   \n",
    "    #Creates a deck using Card instances\n",
    "    def __make_deck(self):\n",
    "        deck=list()\n",
    "        for suit in self.__suits:\n",
    "            for value in self.__values:\n",
    "                deck.append(Card(suit,value))\n",
    "        return deck\n",
    "        \n",
    "    #Method to randomly shuffle deck(s) of cards\n",
    "    def shuffle(self):\n",
    "        random.shuffle(self.__cards)\n",
    "\n",
    "    def deal(self):\n",
    "        #If there are still cards in the deck, pop a card\n",
    "        if len(self.__cards)>0:\n",
    "            pop_card=self.__cards.pop()\n",
    "\n",
    "            #If shuffle card, shuffle decks and deal again\n",
    "            if pop_card.shuffle_card():\n",
    "                self.__cards.shuffle()\n",
    "                return self.deal()\n",
    "\n",
    "            return pop_card\n",
    "            \n",
    "        #If there are no remaining cards, create new decks and pop a card\n",
    "        else:\n",
    "            for _ in range(self.__n_decks):\n",
    "                self.__cards.extend(self.__make_deck())\n",
    "            self.shuffle()\n",
    "            return self.__cards.pop()\n",
    "\n",
    "     "
   ]
  },
  {
   "cell_type": "code",
   "execution_count": 67,
   "metadata": {},
   "outputs": [
    {
     "data": {
      "text/plain": [
       "[3  of  Diamonds,\n",
       " 3  of  Diamonds,\n",
       " King  of  Spades,\n",
       " King  of  Clubs,\n",
       " 4  of  Diamonds,\n",
       " Ace  of  Hearts,\n",
       " Jack  of  Diamonds,\n",
       " 6  of  Hearts,\n",
       " King  of  Clubs,\n",
       " Jack  of  Hearts]"
      ]
     },
     "execution_count": 67,
     "metadata": {},
     "output_type": "execute_result"
    }
   ],
   "source": [
    "deck0=Deck()\n",
    "deck0.shuffle()\n",
    "\n",
    "[deck0.deal() for _ in range(10)]"
   ]
  },
  {
   "cell_type": "code",
   "execution_count": null,
   "metadata": {},
   "outputs": [],
   "source": [
    "#Calculate value of hand and handle aces (can be 1 or 11)\n",
    "def calc_hand_value(hand):\n",
    "    \n",
    "    #List of numerical card values in hand\n",
    "    card_values = list(map(lambda card: card.numerical_value(),hand))\n",
    "\n",
    "    #Get number of aces in card_values\n",
    "    n_As= len(list(filter(lambda x: x==1,card_values)))\n",
    "    \n",
    "    hand_value = sum(card_values)\n",
    "\n",
    "    #If no aces, return hand_value\n",
    "    if n_As==0:\n",
    "        return hand_value\n",
    "    \n",
    "    Ace_as_one = hand_value \n",
    "    Ace_as_eleven = hand_value+10\n",
    "\n",
    "    #Make sure to have best hand and not bust\n",
    "    if Ace_as_eleven<=21:\n",
    "        return Ace_as_eleven\n",
    "    else:\n",
    "        return Ace_as_one"
   ]
  },
  {
   "cell_type": "markdown",
   "metadata": {},
   "source": [
    "2. Now design your game on a UML diagram. You may want to create classes to represent, players, a hand, and/or the game. As you work through the lab, update your UML diagram. At the end of the lab, submit your diagram (as pdf file) along with your notebook. "
   ]
  },
  {
   "cell_type": "markdown",
   "metadata": {},
   "source": [
    "3. Begin with implementing the skeleton (ie define data members and methods/functions, but do not code the logic) of the classes in your UML diagram."
   ]
  },
  {
   "cell_type": "code",
   "execution_count": null,
   "metadata": {},
   "outputs": [],
   "source": [
    "class Card(base):\n",
    "\n",
    "class Deck(base):\n",
    "\n",
    "class Player(base):\n",
    "    def __init__(self,name, n_chips):\n",
    "        base.__init__(self)\n",
    "        self.__name=name\n",
    "        self.__n_chips=n_chips\n",
    "\n",
    "    def name(self):\n",
    "        return self.__name\n",
    "\n",
    "    def chips(self):\n",
    "        return self.__n_chips\n",
    "\n",
    "    def pay(self):\n",
    "        return self.__n_chips+=value\n",
    "\n",
    "    def deduct(self):\n",
    "        return self.__n_chips-=value\n",
    "\n",
    "        \n",
    "\n",
    "    def __str__(self):\n",
    "        return self.__name + \"(\"+ str(self.__n_chips) + \")\"\n",
    "    \n",
    "    __repr__=__str__\n",
    "        \n",
    "\n",
    "\n",
    "\n",
    "\n",
    "class Game(base):\n",
    "    def __init__(self, n_decks=6)\n",
    "        base.__init__(self, self.INFO)\n",
    "\n",
    "    def calc_hand\n",
    "        \n",
    "    \n",
    "    \n"
   ]
  },
  {
   "cell_type": "markdown",
   "metadata": {},
   "source": [
    "4. Complete the implementation by coding the logic of all functions. For now, just implement the dealer player and human player."
   ]
  },
  {
   "cell_type": "markdown",
   "metadata": {},
   "source": [
    "5.  Test. Demonstrate game play. For example, create a game of several dealer players and show that the game is functional through several rounds."
   ]
  },
  {
   "cell_type": "markdown",
   "metadata": {},
   "source": [
    "6. Implement a new player with the following strategy:\n",
    "\n",
    "    * Assign each card a value: \n",
    "        * Cards 2 to 6 are +1 \n",
    "        * Cards 7 to 9 are 0 \n",
    "        * Cards 10 through Ace are -1\n",
    "    * Compute the sum of the values for all cards seen so far.\n",
    "    * Hit if sum is very negative, stay if sum is very positive. Select a threshold for hit/stay, e.g. 0 or -2.  "
   ]
  },
  {
   "cell_type": "markdown",
   "metadata": {},
   "source": [
    "7. Create a test scenario where one player, using the above strategy, is playing with a dealer and 3 other players that follow the dealer's strategy. Each player starts with same number of chips. Play 50 rounds (or until the strategy player is out of money). Compute the strategy player's winnings. You may remove unnecessary printouts from your code (perhaps implement a verbose/quiet mode) to reduce the output."
   ]
  },
  {
   "cell_type": "markdown",
   "metadata": {},
   "source": [
    "8. Create a loop that runs 100 games of 50 rounds, as setup in previous question, and store the strategy player's chips at the end of the game (aka \"winnings\") in a list. Histogram the winnings. What is the average winnings per round? What is the standard deviation. What is the probabilty of net winning or lossing after 50 rounds?\n"
   ]
  },
  {
   "cell_type": "markdown",
   "metadata": {},
   "source": [
    "9. Repeat previous questions scanning the value of the threshold. Try at least 5 different threshold values. Can you find an optimal value?"
   ]
  },
  {
   "cell_type": "markdown",
   "metadata": {},
   "source": [
    "10. Create a new strategy based on web searches or your own ideas. Demonstrate that the new strategy will result in increased or decreased winnings. "
   ]
  }
 ],
 "metadata": {
  "kernelspec": {
   "display_name": "Python 3 (ipykernel)",
   "language": "python",
   "name": "python3"
  },
  "language_info": {
   "codemirror_mode": {
    "name": "ipython",
    "version": 3
   },
   "file_extension": ".py",
   "mimetype": "text/x-python",
   "name": "python",
   "nbconvert_exporter": "python",
   "pygments_lexer": "ipython3",
   "version": "3.12.7"
  }
 },
 "nbformat": 4,
 "nbformat_minor": 4
}
