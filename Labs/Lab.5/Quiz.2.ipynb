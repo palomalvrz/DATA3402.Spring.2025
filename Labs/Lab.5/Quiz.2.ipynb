{
 "cells": [
  {
   "cell_type": "markdown",
   "id": "ed3d1d2c-86de-4a65-a085-2d6dac5af75f",
   "metadata": {},
   "source": [
    "Write a function make_deck that returns a list of all of the cards in a standard card deck. The return should be a list of tuples of pairs of suit and value. For example the 10 of Clubs would be  ('Clubs', 10) and Queen of Hearts would be ('Hearts', 'Queen'). Recall that a deck has 52 cards, divided into 4 suits (Clubs, Diamonds, Hearts, and Spades), and that each suit has 13 cards: 2 to 10, Jack, Queen, King, and Ace. Summit your solution with Lab 5. Loop over all suits, loop over all values of suits."
   ]
  },
  {
   "cell_type": "code",
   "execution_count": 11,
   "id": "be6e34e1-ed32-4c2c-9bbf-2c060d1d0877",
   "metadata": {},
   "outputs": [
    {
     "name": "stdout",
     "output_type": "stream",
     "text": [
      "[('Clubs', 2), ('Clubs', 3), ('Clubs', 4), ('Clubs', 5), ('Clubs', 6), ('Clubs', 7), ('Clubs', 8), ('Clubs', 9), ('Clubs', 10), ('Clubs', 'Jack'), ('Clubs', 'Queen'), ('Clubs', 'King'), ('Clubs', 'Ace'), ('Diamonds', 2), ('Diamonds', 3), ('Diamonds', 4), ('Diamonds', 5), ('Diamonds', 6), ('Diamonds', 7), ('Diamonds', 8), ('Diamonds', 9), ('Diamonds', 10), ('Diamonds', 'Jack'), ('Diamonds', 'Queen'), ('Diamonds', 'King'), ('Diamonds', 'Ace'), ('Hearts', 2), ('Hearts', 3), ('Hearts', 4), ('Hearts', 5), ('Hearts', 6), ('Hearts', 7), ('Hearts', 8), ('Hearts', 9), ('Hearts', 10), ('Hearts', 'Jack'), ('Hearts', 'Queen'), ('Hearts', 'King'), ('Hearts', 'Ace'), ('Spades', 2), ('Spades', 3), ('Spades', 4), ('Spades', 5), ('Spades', 6), ('Spades', 7), ('Spades', 8), ('Spades', 9), ('Spades', 10), ('Spades', 'Jack'), ('Spades', 'Queen'), ('Spades', 'King'), ('Spades', 'Ace')] \n",
      "\n",
      "Length of deck: 52\n"
     ]
    }
   ],
   "source": [
    "\n",
    "def make_deck():\n",
    "    #Cards divided into 4 suits\n",
    "    suits =['Clubs', 'Diamonds', 'Hearts', 'Spades'] \n",
    "\n",
    "    #Each suit has 13 cards\n",
    "    values =[2, 3, 4, 5, 6, 7, 8, 9, 10, 'Jack', 'Queen', 'King', 'Ace']\n",
    "\n",
    "    #Loop over all suits and values, and create a tuple for each card\n",
    "    deck =[(suit, value) for suit in suits for value in values]\n",
    "    return deck\n",
    "\n",
    "#Calling function \n",
    "deck =make_deck()\n",
    "\n",
    "#Printing deck\n",
    "print(deck, \"\\n\")  \n",
    "\n",
    "print(\"Length of deck:\", len(deck))  \n",
    "\n",
    "    "
   ]
  },
  {
   "cell_type": "code",
   "execution_count": null,
   "id": "bb6d72b2-32a9-4234-818a-ffb859923669",
   "metadata": {},
   "outputs": [],
   "source": []
  }
 ],
 "metadata": {
  "kernelspec": {
   "display_name": "Python 3 (ipykernel)",
   "language": "python",
   "name": "python3"
  },
  "language_info": {
   "codemirror_mode": {
    "name": "ipython",
    "version": 3
   },
   "file_extension": ".py",
   "mimetype": "text/x-python",
   "name": "python",
   "nbconvert_exporter": "python",
   "pygments_lexer": "ipython3",
   "version": "3.12.7"
  }
 },
 "nbformat": 4,
 "nbformat_minor": 5
}
