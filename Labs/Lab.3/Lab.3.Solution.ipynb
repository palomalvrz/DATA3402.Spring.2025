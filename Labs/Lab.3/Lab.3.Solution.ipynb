{
 "cells": [
  {
   "cell_type": "markdown",
   "metadata": {},
   "source": [
    "# Lab 3\n",
    "\n",
    "In this lab we will become familiar with distributions, histograms, and functional programming. Do not use numpy or any other library for this lab.\n",
    "\n",
    "Before that, lets get setup homework submission and submit your previous lab.  \n",
    "\n",
    "## Working on the Command-line.\n",
    "\n",
    "It is important for you to learn to work on the command line and to be familiar with the Unix environment (e.g. Linux, Mac OS, or Windows Linux Subsystem). We'll go over working on the command-line in detail later in the course.\n",
    "\n",
    "You are required to submit your work in this course via GitHub. Today in class, you will setup everything on the command-line.\n",
    "\n",
    "### Command-line basics\n",
    "\n",
    "There is plenty of material online that will help you figure out how to do various tasks on the command line. Commands you may need to know today:\n",
    "\n",
    "* `ls`: lists the contents of the current directory.\n",
    "* `pwd`: prints the path of the current directory.\n",
    "* `cd <directory>`: changes your current directory to the specified directory.\n",
    "* `cd ..`: changes current directory to the previous directory. Basically steps out of the current directory to the directory containing the current directory.\n",
    "* `mkdir <directory>`: create a new directory with the specified name.\n",
    "* `rmdir <directory>`: removes the specified directory. Note it has to be empty.\n",
    "* `rm <filename>`: deletes the specified file.\n",
    "* `mv <filename 1> <filename 2>`: Moves or renames a file.\n",
    "* `cp <filename 1> <filename 2>`: copies an file. If you just provide a path to a directory, it copies the file into that directory with the same filename. If you specifiy a new filename, the copy has a new name. For example `cp File.1.txt File.2.txt` creates a copy of `File.1.txt` with the name `File.2.txt`. Meanwhile `cp File.1.txt my_directory`, where `my_directory` is a directory, creates a copy of `File.1.txt` in directory `my_directory` with the name `File.1.txt`.\n",
    "\n",
    "For reference, here are some example resources I found by googling:\n",
    "\n",
    "* Paths and Wildcards: https://www.warp.dev/terminus/linux-wildcards\n",
    "* Basic commands like copy: https://kb.iu.edu/d/afsk\n",
    "* General introduction to shell: https://github-pages.ucl.ac.uk/RCPSTrainingMaterials/HPCandHTCusingLegion/2_intro_to_shell.html\n",
    "* Manual pages: https://www.geeksforgeeks.org/linux-man-page-entries-different-types/?ref=ml_lbp\n",
    "* Chaining commands: https://www.geeksforgeeks.org/chaining-commands-in-linux/?ref=ml_lbp\n",
    "* Piping: https://www.geeksforgeeks.org/piping-in-unix-or-linux/\n",
    "* Using sed: https://www.geeksforgeeks.org/sed-command-linux-set-2/?ref=ml_lbp\n",
    "* Various Unix commands: https://www.geeksforgeeks.org/linux-commands/?ref=lbp\n",
    "* Cheat sheets:\n",
    "    * https://www.stationx.net/unix-commands-cheat-sheet/\n",
    "    * https://cheatography.com/davechild/cheat-sheets/linux-command-line/\n",
    "    * https://www.theknowledgeacademy.com/blog/unix-commands-cheat-sheet/\n",
    "    \n",
    "These aren't necessarily the best resources. Feel free to search for better ones. Also, don't forget that Unix has built-in manual pages for all of its commands. Just type `man <command>` at the command prompt. Use the space-bar to scroll through the documentation and \"q\" to exit.\n",
    "\n",
    "\n",
    "### Setup and Submission\n",
    "\n",
    "Our course repository is public. The instructions here aim to have you setup a fork of the course repository. Unfortunately because you are forking a public repo, your fork will have to be public also. \n",
    "\n",
    "You should be familiar with git from the first semester of this course. I assume that you all have github accounts and have setup things to be able to [push to github using ssh](https://docs.github.com/en/github/authenticating-to-github/connecting-to-github-with-ssh). The instuctions here lead you to:\n",
    "\n",
    "We'll overview what you will do before going through step by step instructions.\n",
    "\n",
    "1. Setup:\n",
    "    1. Fork the class repository. Some directions in [fork-a-repo](https://docs.github.com/en/github/getting-started-with-github/fork-a-repo).\n",
    "    1. Create a directory on your personal system where you will keep all course materials.\n",
    "    1. In that directory, clone your fork of the repository.\n",
    "    1. Using `git remote`, set the upstream to be the class repo, so you can pull from the class and push to your fork.\n",
    "\n",
    "1. Submission:\n",
    "    1. Copy your solutions into the appropriate directory (e.g. into `Labs/Lab.2/`) and with appropriate filename `Lab.2.solution.ipynb'.\n",
    "    1. Commit / push your solutions.\n",
    " \n",
    "Below are step by step instructions with examples (including example directory naming convention). Feel free to modify things as you see fit. \n",
    "\n",
    "#### Setup\n",
    "You should only need to follow this instructions once. Here are some useful git commands:\n",
    "\n",
    "* Git help: `git help`\n",
    "* Git remote help: `git help remote`\n",
    "* Check remote status: `git remote -v`\n",
    "* Add a remote: `git remote add <stream name> <repo URL>`\n",
    "* Add a remove: `git remote remove <stream name>`\n",
    "\n",
    "Steps:\n",
    "1. In a browser, log into GitHub and navigate to the [course repository](https://github.com/UTA-DataScience/DATA3402.Spring.2025).\n",
    "1. On the top right of the page, press the fork button to create a new fork into your own GitHub account.\n",
    "1. After successful fork, you should find the browser showing your fork of the course repository. Use the green \"Code\" button to copy path to the repo into your the clipboard of your computer.\n",
    "1. Open a shell on your personal computer.\n",
    "1. If you have not done so already, create a new directory/folder where you will keep all course material to navigate to it. For example: `mkdir Data-3402` and `cd Data-3402`.\n",
    "1. Clone your fork of the repository using `git clone` followed by the path you copied into your clipboard. (copy/paste)\n",
    "1. Paste the URL to your fork in the worksheet for the TAs and instructors.\n",
    "1. Now go into the directory of your clone (`cd DATA3402.Spring.2025`).\n",
    "1. Type `git remote -v` to see the current setup for fetch and pull.\n",
    "1. Note the URL you see. This should be the same as what you used for your clone for both push and fetch.\n",
    "1. Delete the origin remote using `git remote remove origin`.\n",
    "1. Add the course repo as your remote using `git remote add origin https://github.com/UTA-DataScience/DATA3402.Spring.2025.git`.\n",
    "1. Change the push to point to your fork. This means you will need the URL to your clone we copied earlier and confirmed as the original origin. The command will look something like: `git remote set-url --push origin  https://github.com/XXXXXX/DATA3402.Spring.2025.git`, where XXXXX is your username on GitHub.\n",
    "1. Note that if you setup everything correctly, you now should be able to do `git pull` to get updates from the course repo, and do `git push` to push your commits into your own fork.\n",
    "\n",
    "### Submission\n",
    "These instructions outline how you submit files. Some useful commands:\n",
    "* To add a file to local repository: `git add <file>`.\n",
    "* To commit all changed files into local repository: `git -a -m \"A message\"`. You need to provide some comment when you commit. \n",
    "* To push the commited files from the local repository to GitHub: `git push`.\n",
    "* To get updates from GitHub: `git pull`.\n",
    "\n",
    "Steps:\n",
    "1. To submit your labs, navigate to your clone of your fork of the course repository. \n",
    "1. Use `git pull` to make sure you have the latest updates. \n",
    "1. Make sure your copy of the lab your are working on is in the appropriate place in this clone. That means if you have the file elsewhere, copy it to the same directory in your clone of your fork. \n",
    "1. Note that in order to avoid future conflicts, you should always name your solution differently than the original file in the class repo. For example if your file is still named `Lab.2.ipynb` you should rename it using the `mv` command: `mv Lab.2.ipynb Lab.2.solution.ipynb`. \n",
    "1. Add and files you wish to submit into the repo. For example: `git add Labs/Lab.2/Lab.2.solution.ipynb`\n",
    "1. Commit any changes: `git commit -a -m \"Lab 2 updates\"`\n",
    "1. Push your changes: `git push`\n",
    "1. Check on github website that your solutions have been properly submitted.\n",
    "\n",
    "Before you leave the session today, make sure your GitHub Repo is setup. If you need to work further on your lab, navigate jupyter to the copy of the lab you just submitted and work there. Once done, repeat the commit and push commands to submit your updated solution. Note that lab 2 is due by midnight Friay 1/31/2025.\n"
   ]
  },
  {
   "cell_type": "markdown",
   "metadata": {},
   "source": [
    "### Uniform Distribution\n",
    "Lets start with generating some fake random data. You can get a random number between 0 and 1 using the python random module as follow:"
   ]
  },
  {
   "cell_type": "code",
   "execution_count": 1,
   "metadata": {},
   "outputs": [
    {
     "name": "stdout",
     "output_type": "stream",
     "text": [
      "The Value of x is 0.2866396649795214\n"
     ]
    }
   ],
   "source": [
    "import random\n",
    "x=random.random()\n",
    "print(\"The Value of x is\", x)"
   ]
  },
  {
   "cell_type": "markdown",
   "metadata": {},
   "source": [
    "Everytime you call random, you will get a new number.\n",
    "\n",
    "*Exercise 1:* Using random, write a function `generate_uniform(N, mymin, mymax)`, that returns a python list containing N random numbers between specified minimum and maximum value. Note that you may want to quickly work out on paper how to turn numbers between 0 and 1 to between other values. "
   ]
  },
  {
   "cell_type": "code",
   "execution_count": 2,
   "metadata": {},
   "outputs": [],
   "source": [
    "# Skeleton\n",
    "def generate_uniform(N,mymin,mymax):\n",
    "    out = []\n",
    "    ### BEGIN SOLUTION\n",
    "\n",
    "    #Scale and shift to fit the arguments\n",
    "    for _ in range(N):\n",
    "        x = (mymax-mymin)*random.random()+mymin\n",
    "        out.append(x)\n",
    "    \n",
    "    ### END SOLUTION\n",
    "    return out"
   ]
  },
  {
   "cell_type": "code",
   "execution_count": 3,
   "metadata": {},
   "outputs": [
    {
     "name": "stdout",
     "output_type": "stream",
     "text": [
      "[17.353662100840616, -15.175569861324146, -14.32443746858389, 21.01982512369444, 12.30718782328885, -18.47918183164036, 14.73089253272125, -3.999487049093574, 21.75856879964377, 11.820956207952037]\n",
      "-18.47918183164036\n",
      "21.75856879964377\n"
     ]
    }
   ],
   "source": [
    "list_1=generate_uniform(10,-25,25)\n",
    "print(list_1)\n",
    "print(min(list_1))\n",
    "print(max(list_1))"
   ]
  },
  {
   "cell_type": "code",
   "execution_count": 4,
   "metadata": {},
   "outputs": [
    {
     "name": "stdout",
     "output_type": "stream",
     "text": [
      "Data Type: <class 'list'>\n",
      "Data Length: 1000\n",
      "Type of Data Contents: <class 'float'>\n",
      "Data Minimum: -9.979046980143684\n",
      "Data Maximum: 9.982086753330517\n"
     ]
    }
   ],
   "source": [
    "# Test your solution here\n",
    "data=generate_uniform(1000,-10,10)\n",
    "print (\"Data Type:\", type(data))\n",
    "print (\"Data Length:\", len(data))\n",
    "if len(data)>0: \n",
    "    print (\"Type of Data Contents:\", type(data[0]))\n",
    "    print (\"Data Minimum:\", min(data))\n",
    "    print (\"Data Maximum:\", max(data))"
   ]
  },
  {
   "cell_type": "markdown",
   "metadata": {},
   "source": [
    "*Exercise 2a:* \n",
    "Write a function that computes the mean of values in a list. Recall the equation for the mean of a random variable $\\bf{x}$ computed on a data set of $n$ values $\\{ x_i \\} = \\{x_1, x_2, ..., x_n\\}$  is ${\\bf\\bar{x}} = \\frac{1}{n} \\sum_i^n x_i$."
   ]
  },
  {
   "cell_type": "code",
   "execution_count": 5,
   "metadata": {},
   "outputs": [],
   "source": [
    "# Skeleton, add numbers and divide by amount of numbers\n",
    "def mean(Data):\n",
    "    \n",
    "    ### BEGIN SOLUTION\n",
    "\n",
    "    if not Data:\n",
    "        return None\n",
    "        \n",
    "    m=sum(Data)/len(Data)\n",
    "        \n",
    "    ### END SOLUTION\n",
    "    \n",
    "    return m"
   ]
  },
  {
   "cell_type": "code",
   "execution_count": 6,
   "metadata": {},
   "outputs": [
    {
     "name": "stdout",
     "output_type": "stream",
     "text": [
      "Mean of Data: -0.14391758287523182\n"
     ]
    }
   ],
   "source": [
    "# Test your solution here\n",
    "print (\"Mean of Data:\", mean(data))"
   ]
  },
  {
   "cell_type": "markdown",
   "metadata": {},
   "source": [
    "*Exercise 2b:* \n",
    "Write a function that computes the variance of values in a list. Recall the equation for the variance of a random variable $\\bf{x}$ computed on a data set of $n$ values $\\{ x_i \\} = \\{x_1, x_2, ..., x_n\\}$  is ${\\bf\\langle x \\rangle} = \\frac{1}{n} \\sum_i^n (x_i - {\\bf\\bar{x}})$."
   ]
  },
  {
   "cell_type": "code",
   "execution_count": 7,
   "metadata": {},
   "outputs": [],
   "source": [
    "def variance(Data):\n",
    "    \n",
    "    ### BEGIN SOLUTION\n",
    "\n",
    "    if not Data:\n",
    "        return None\n",
    "    \n",
    "    m = mean(Data) \n",
    "    v=list()\n",
    "    \n",
    "    for i in Data:\n",
    "        v.append((i-m)**2)\n",
    "        \n",
    "    ### END SOLUTION\n",
    "    \n",
    "    return sum(v)/(len(Data))"
   ]
  },
  {
   "cell_type": "code",
   "execution_count": 8,
   "metadata": {},
   "outputs": [
    {
     "name": "stdout",
     "output_type": "stream",
     "text": [
      "Variance of Data: 32.66153178280407\n"
     ]
    }
   ],
   "source": [
    "# Test your solution here\n",
    "\n",
    "print (\"Variance of Data:\", variance(data))"
   ]
  },
  {
   "cell_type": "markdown",
   "metadata": {},
   "source": [
    "## Histogramming"
   ]
  },
  {
   "cell_type": "markdown",
   "metadata": {},
   "source": [
    "*Exercise 3:* Write a function that bins the data so that you can create a histogram. An example of how to implement histogramming is the following logic:\n",
    "\n",
    "* User inputs a list of values `x` and optionally `n_bins` which defaults to 10.\n",
    "* If not supplied, find the minimum and maximum (`x_min`,`x_max`) of the values in x.\n",
    "* Determine the bin size (`bin_size`) by dividing the range of the function by the number of bins.\n",
    "* Create an empty list of zeros of size `n_bins`, call it `hist`.\n",
    "* Loop over the values in `x`\n",
    "    * Loop over the values in `hist` with index `i`:\n",
    "        * If x is between `x_min+i*bin_size` and `x_min+(i+1)*bin_size`, increment `hist[i].` \n",
    "        * For efficiency, try to use continue to goto the next bin and data point.\n",
    "* Return `hist` and the list corresponding of the bin edges (i.e. of `x_min+i*bin_size`).    "
   ]
  },
  {
   "cell_type": "code",
   "execution_count": 9,
   "metadata": {},
   "outputs": [],
   "source": [
    "def linspace(x_min,x_max,steps=10):\n",
    "    x=x_min\n",
    "    step_size=(x_max-x_min)/steps\n",
    "    out=list()\n",
    "    while x<x_max:\n",
    "        out.append(x)\n",
    "        x+=step_size\n",
    "    return out"
   ]
  },
  {
   "cell_type": "code",
   "execution_count": 10,
   "metadata": {},
   "outputs": [],
   "source": [
    "# Solution\n",
    "def histogram(x,n_bins=10,x_min=None,x_max=None):\n",
    "    ### BEGIN SOLUTION\n",
    "\n",
    "    if x_min==None:\n",
    "        x_min=min(x)\n",
    "    if x_max==None:\n",
    "        x_max=max(x)\n",
    "\n",
    "    bin_edges = linspace(x_min,x_max,n_bins+1) \n",
    "\n",
    "    bin_size = (x_max - x_min) / n_bins\n",
    "\n",
    "    hist=[0]*n_bins\n",
    "\n",
    "    for value in x:\n",
    "        for i in range(n_bins):\n",
    "            if x_min+i*bin_size <= value <x_min+(i+1)*bin_size:\n",
    "                hist[i]+=1\n",
    "                break\n",
    "    \n",
    "    ### END SOLUTION\n",
    "\n",
    "    return hist,bin_edges"
   ]
  },
  {
   "cell_type": "code",
   "execution_count": 11,
   "metadata": {},
   "outputs": [
    {
     "name": "stdout",
     "output_type": "stream",
     "text": [
      "[10, 11, 11, 6, 10, 6, 7, 8, 13, 9, 10, 15, 9, 19, 13, 8, 9, 6, 5, 10, 9, 14, 14, 8, 18, 15, 4, 11, 13, 5, 9, 16, 10, 14, 12, 16, 7, 10, 11, 5, 13, 4, 8, 12, 9, 7, 14, 10, 17, 6, 6, 14, 6, 8, 6, 12, 14, 11, 7, 7, 18, 9, 9, 12, 5, 14, 13, 13, 8, 9, 6, 8, 9, 13, 7, 10, 9, 9, 12, 10, 8, 7, 11, 5, 11, 5, 13, 10, 10, 16, 7, 10, 15, 12, 7, 6, 11, 8, 10, 7]\n"
     ]
    }
   ],
   "source": [
    "# Test your solution here\n",
    "h,b=histogram(data,100)\n",
    "print(h)"
   ]
  },
  {
   "cell_type": "markdown",
   "metadata": {},
   "source": [
    "*Exercise 4:* Write a function that uses the histogram function in the previous exercise to create a text-based \"graph\". For example the output could look like the following:\n",
    "```\n",
    "[  0,  1] : ######\n",
    "[  1,  2] : #####\n",
    "[  2,  3] : ######\n",
    "[  3,  4] : ####\n",
    "[  4,  5] : ####\n",
    "[  5,  6] : ######\n",
    "[  6,  7] : #####\n",
    "[  7,  8] : ######\n",
    "[  8,  9] : ####\n",
    "[  9, 10] : #####\n",
    "```\n",
    "\n",
    "Where each line corresponds to a bin and the number of `#`'s are proportional to the value of the data in the bin. "
   ]
  },
  {
   "cell_type": "code",
   "execution_count": 12,
   "metadata": {},
   "outputs": [],
   "source": [
    "# Solution\n",
    "def draw_histogram(x,n_bins,x_min=None,x_max=None,character=\"#\",max_character_per_line=20):\n",
    "    ### BEGIN SOLUTION\n",
    "\n",
    "    #Get hist data and bin edges\n",
    "    hist, bin_edges=histogram(x,n_bins,x_min,x_max) \n",
    "\n",
    "    for i in range(n_bins):\n",
    "        print(f\"[{bin_edges[i]:.2f},{bin_edges[i+1]:.2f}] : \", end=\"\")\n",
    "        hist_line = character * int((hist[i] / max(hist)) * max_character_per_line)\n",
    "        print(hist_line)  \n",
    "    ### END SOLUTION\n",
    "\n",
    "    return hist,bin_edges"
   ]
  },
  {
   "cell_type": "code",
   "execution_count": 13,
   "metadata": {},
   "outputs": [
    {
     "name": "stdout",
     "output_type": "stream",
     "text": [
      "[-9.98,-9.03] : ##############\n",
      "[-9.03,-8.08] : #############\n",
      "[-8.08,-7.13] : ####################\n",
      "[-7.13,-6.18] : ###########\n",
      "[-6.18,-5.23] : ###################\n",
      "[-5.23,-4.28] : ##############\n",
      "[-4.28,-3.33] : ##################\n",
      "[-3.33,-2.37] : ##############\n",
      "[-2.37,-1.42] : #############\n",
      "[-1.42,-0.47] : ################\n",
      "[-0.47,0.48] : ############\n",
      "[0.48,1.43] : ###############\n",
      "[1.43,2.38] : ################\n",
      "[2.38,3.33] : #################\n",
      "[3.33,4.28] : #############\n",
      "[4.28,5.23] : ###############\n",
      "[5.23,6.18] : ############\n",
      "[6.18,7.13] : ################\n",
      "[7.13,8.08] : ###############\n",
      "[8.08,9.03] : ############\n"
     ]
    }
   ],
   "source": [
    "# Test your solution here\n",
    "h,b=draw_histogram(data,20)"
   ]
  },
  {
   "cell_type": "code",
   "execution_count": 14,
   "metadata": {},
   "outputs": [
    {
     "name": "stdout",
     "output_type": "stream",
     "text": [
      "[48, 43, 66, 38, 63, 48, 61, 49, 46, 54, 40, 51, 53, 57, 43, 50, 42, 54, 51, 42] [-9.979046980143684, -9.028516802359198, -8.077986624574711, -7.127456446790226, -6.17692626900574, -5.226396091221255, -4.275865913436769, -3.325335735652284, -2.3748055578677985, -1.4242753800833128, -0.4737452022988271, 0.47678497548565857, 1.4273151532701442, 2.3778453310546297, 3.328375508839115, 4.278905686623601, 5.229435864408086, 6.1799660421925715, 7.130496219977057, 8.081026397761542, 9.031556575546029, 9.982086753330515]\n"
     ]
    }
   ],
   "source": [
    "h,b=histogram(data,20)\n",
    "print(h, b)"
   ]
  },
  {
   "cell_type": "markdown",
   "metadata": {},
   "source": [
    "## Functional Programming\n",
    "\n",
    "*Exercise 5:* Write a function the applies a booling function (that returns true/false) to every element in data, and return a list of indices of elements where the result was true. Use this function to find the indices of entries greater than 0.5. "
   ]
  },
  {
   "cell_type": "code",
   "execution_count": 15,
   "metadata": {},
   "outputs": [],
   "source": [
    "def where(mylist,myfunc):\n",
    "    out= []\n",
    "    \n",
    "    ### BEGIN SOLUTION\n",
    "\n",
    "    #Get index and value\n",
    "    for i, value in enumerate(mylist):\n",
    "        \n",
    "        #Use boolean function and append index\n",
    "        if myfunc(value):\n",
    "            out.append(i) \n",
    "    \n",
    "    ### END SOLUTION\n",
    "    \n",
    "    return out"
   ]
  },
  {
   "cell_type": "code",
   "execution_count": 16,
   "metadata": {},
   "outputs": [
    {
     "data": {
      "text/plain": [
       "[3, 4, 5]"
      ]
     },
     "execution_count": 16,
     "metadata": {},
     "output_type": "execute_result"
    }
   ],
   "source": [
    "# Test your solution here\n",
    "\n",
    "mylist=[0.1, 0.3, 0.5, 0.7, 0.8, 0.9]\n",
    "\n",
    "func_0=lambda x: x > 0.5\n",
    "\n",
    "indices=where(mylist,func_0)\n",
    "\n",
    "indices"
   ]
  },
  {
   "cell_type": "markdown",
   "metadata": {},
   "source": [
    "*Exercise 6:* The `inrange(mymin,mymax)` function below returns a function that tests if it's input is between the specified values. Write corresponding functions that test:\n",
    "* Even\n",
    "* Odd\n",
    "* Greater than\n",
    "* Less than\n",
    "* Equal\n",
    "* Divisible by"
   ]
  },
  {
   "cell_type": "code",
   "execution_count": 17,
   "metadata": {},
   "outputs": [
    {
     "name": "stdout",
     "output_type": "stream",
     "text": [
      "True True False False False\n",
      "False False True True False\n",
      "Number of Entries passing F1: 484\n",
      "Number of Entries passing F2: 0\n"
     ]
    }
   ],
   "source": [
    "def in_range(mymin,mymax):\n",
    "    def testrange(x):\n",
    "        return x<mymax and x>=mymin\n",
    "    return testrange\n",
    "\n",
    "# Examples:\n",
    "F1=in_range(0,10)\n",
    "F2=in_range(10,20)\n",
    "\n",
    "# Test of in_range\n",
    "print (F1(0), F1(1), F1(10), F1(15), F1(20))\n",
    "print (F2(0), F2(1), F2(10), F2(15), F2(20))\n",
    "\n",
    "print (\"Number of Entries passing F1:\", len(where(data,F1)))\n",
    "print (\"Number of Entries passing F2:\", len(where(data,F2)))"
   ]
  },
  {
   "cell_type": "code",
   "execution_count": 18,
   "metadata": {},
   "outputs": [],
   "source": [
    "### BEGIN SOLUTION\n",
    "\n",
    "def is_even(): \n",
    "    def even_test(x):\n",
    "        return x%2==0\n",
    "    return even_test\n",
    "\n",
    "def is_odd():\n",
    "    def odd_test(x):\n",
    "        return x%2 !=0\n",
    "    return odd_test\n",
    "\n",
    "def greater_than(val):\n",
    "    def greater_than_test(x):\n",
    "        return x>val\n",
    "    return greater_than_test\n",
    "\n",
    "def less_than(val):\n",
    "    def less_than_test(x):\n",
    "        return x<val\n",
    "    return less_than_test\n",
    "\n",
    "def equal(val):\n",
    "    def equal_test(x):\n",
    "        return x==val\n",
    "    return equal_test\n",
    "\n",
    "def divisible_by(val):\n",
    "    def divisible_by_test(x):\n",
    "        return x%val==0\n",
    "    return divisible_by_test\n",
    "    \n",
    "### END SOLUTION"
   ]
  },
  {
   "cell_type": "code",
   "execution_count": 19,
   "metadata": {},
   "outputs": [
    {
     "name": "stdout",
     "output_type": "stream",
     "text": [
      "True False True False True\n",
      "False True False True False\n",
      "False False True True True\n",
      "True True False False False\n",
      "False True False False False\n",
      "True False True True True\n",
      "Number of Entries Even: 0\n",
      "Number of Entries Odd: 1000\n",
      "Number of Entries Greater Than 5: 240\n",
      "Number of Entries Less Than 5: 760\n",
      "Number of Entries Equal to 5: 0\n",
      "Number of Entries Divisible By 5: 0\n"
     ]
    }
   ],
   "source": [
    "# Test your solution\n",
    "\n",
    "\n",
    "#Examples:\n",
    "F3=is_even()\n",
    "F4=is_odd()\n",
    "F5=greater_than(5)\n",
    "F6=less_than(5)\n",
    "F7=equal(5)\n",
    "F8=divisible_by(5)\n",
    "\n",
    "#Test of functions:\n",
    "print (F3(0), F3(1), F3(10), F3(15), F3(20))\n",
    "print (F4(0), F4(1), F4(10), F4(15), F4(20))\n",
    "print (F5(0), F5(1), F5(10), F5(15), F5(20))\n",
    "print (F6(0), F6(1), F6(10), F6(15), F6(20))\n",
    "print (F7(0), F7(5), F7(10), F7(15), F7(20))\n",
    "print (F8(0), F8(1), F8(10), F8(15), F8(20))\n",
    "\n",
    "#Checking how many entries of data passes the functions\n",
    "print (\"Number of Entries Even:\", len(where(data,F3)))\n",
    "print (\"Number of Entries Odd:\", len(where(data,F4)))\n",
    "print (\"Number of Entries Greater Than 5:\", len(where(data,F5)))\n",
    "print (\"Number of Entries Less Than 5:\", len(where(data,F6)))\n",
    "print (\"Number of Entries Equal to 5:\", len(where(data,F7)))\n",
    "print (\"Number of Entries Divisible By 5:\", len(where(data,F8)))\n",
    "\n"
   ]
  },
  {
   "cell_type": "markdown",
   "metadata": {},
   "source": [
    "*Exercise 7:* Repeat the previous exercise using `lambda` and the built-in python functions sum and map instead of your solution above. "
   ]
  },
  {
   "cell_type": "code",
   "execution_count": 20,
   "metadata": {},
   "outputs": [
    {
     "name": "stdout",
     "output_type": "stream",
     "text": [
      "True False True False True\n",
      "False True False True False\n",
      "False False True True True\n",
      "True True False False False\n",
      "False True False False False\n",
      "True False True True True\n",
      "Number of Entries Even: 0\n",
      "Number of Entries Odd: 1000\n",
      "Number of Entries Greater Than 5: 240\n",
      "Number of Entries Less Than 5: 760\n",
      "Number of Entries Equal to 5: 0\n",
      "Number of Entries Divisible By 5: 0\n"
     ]
    }
   ],
   "source": [
    "### BEGIN SOLUTION\n",
    "\n",
    "def is_even(): \n",
    "    return lambda x: x%2==0\n",
    "\n",
    "def is_odd():\n",
    "    return lambda x: x%2 !=0\n",
    "\n",
    "def greater_than(val):\n",
    "    return lambda x: x>val\n",
    "\n",
    "def less_than(val):\n",
    "    return lambda x: x<val\n",
    "\n",
    "def equal(val):\n",
    "    return lambda x: x==val\n",
    "\n",
    "def divisible_by(val):\n",
    "    return lambda x: x%val==0       \n",
    "    \n",
    "### END SOLUTION\n",
    "\n",
    "F3=is_even()\n",
    "F4=is_odd()\n",
    "F5=greater_than(5)\n",
    "F6=less_than(5)\n",
    "F7=equal(5)\n",
    "F8=divisible_by(5)\n",
    "\n",
    "#Test of functions:\n",
    "print (F3(0), F3(1), F3(10), F3(15), F3(20))\n",
    "print (F4(0), F4(1), F4(10), F4(15), F4(20))\n",
    "print (F5(0), F5(1), F5(10), F5(15), F5(20))\n",
    "print (F6(0), F6(1), F6(10), F6(15), F6(20))\n",
    "print (F7(0), F7(5), F7(10), F7(15), F7(20))\n",
    "print (F8(0), F8(1), F8(10), F8(15), F8(20))\n",
    "\n",
    "#Checking how many entries of data passes the functions\n",
    "print (\"Number of Entries Even:\", sum(map(F3,data)))\n",
    "print (\"Number of Entries Odd:\", sum(map(F4,data)))\n",
    "print (\"Number of Entries Greater Than 5:\", sum(map(F5,data)))\n",
    "print (\"Number of Entries Less Than 5:\", sum(map(F6,data)))\n",
    "print (\"Number of Entries Equal to 5:\", sum(map(F7,data)))\n",
    "print (\"Number of Entries Divisible By 5:\", sum(map(F8,data)))\n"
   ]
  },
  {
   "cell_type": "markdown",
   "metadata": {},
   "source": [
    "## Monte Carlo\n",
    "\n",
    "*Exercise 7:* Write a \"generator\" function called `generate_function(func,x_min,x_max,N)`, that instead of generating a flat distribution, generates a distribution with functional form coded in `func`. Note that `func` will always be > 0.  \n",
    "\n",
    "Use the test function below and your histogramming functions above to demonstrate that your generator is working properly.\n",
    "\n",
    "Hint: A simple, but slow, solution is to a draw random number `test_x` within the specified range and another number `p` between the `min` and `max` of the function (which you will have to determine). If `p<=function(test_x)`, then place `test_x` on the output. If not, repeat the process, drawing two new numbers. Repeat until you have the specified number of generated numbers, `N`. For this problem, it's OK to determine the `min` and `max` by numerically sampling the function.  "
   ]
  },
  {
   "cell_type": "code",
   "execution_count": 21,
   "metadata": {},
   "outputs": [],
   "source": [
    "#Modified linspace to include max\n",
    "def linspace(x_min, x_max, steps=10):\n",
    "    step_size = (x_max - x_min) / (steps - 1) \n",
    "    out = [x_min + i * step_size for i in range(steps)]  \n",
    "    return out\n",
    "\n",
    "def generate_function(func,x_min,x_max,N=1000):\n",
    "    out = list()\n",
    "    ### BEGIN SOLUTION\n",
    "\n",
    "    #Sample values\n",
    "    x_vals=linspace(x_min, x_max, 1000)\n",
    "    y_vals=[func(x) for x in x_vals]\n",
    "    y_max=max(y_vals)\n",
    "    y_min=min(y_vals)\n",
    "    \n",
    "    while len(out)<N:\n",
    "        test_x=random.uniform(x_min, x_max)\n",
    "        p= random.uniform(y_min, y_max)\n",
    "    \n",
    "        if p<=func(test_x):\n",
    "            out.append(test_x)\n",
    "            \n",
    "    ### END SOLUTION\n",
    "    \n",
    "    return out"
   ]
  },
  {
   "cell_type": "code",
   "execution_count": 22,
   "metadata": {},
   "outputs": [
    {
     "name": "stdout",
     "output_type": "stream",
     "text": [
      "[0.54,1.01] : #\n",
      "[1.01,1.48] : #\n",
      "[1.48,1.96] : ##\n",
      "[1.96,2.43] : ####\n",
      "[2.43,2.90] : ####\n",
      "[2.90,3.37] : #####\n",
      "[3.37,3.85] : #######\n",
      "[3.85,4.32] : #########\n",
      "[4.32,4.79] : ##########\n",
      "[4.79,5.27] : ##########\n",
      "[5.27,5.74] : #########\n",
      "[5.74,6.21] : #############\n",
      "[6.21,6.68] : ##############\n",
      "[6.68,7.16] : ################\n",
      "[7.16,7.63] : ##############\n",
      "[7.63,8.10] : ############\n",
      "[8.10,8.57] : ####################\n",
      "[8.57,9.05] : ################\n",
      "[9.05,9.52] : #############\n",
      "[9.52,9.99] : ###################\n"
     ]
    }
   ],
   "source": [
    "# A test function\n",
    "def test_func(x,a=1,b=1):\n",
    "    return abs(a*x+b)\n",
    "\n",
    "dist_0=generate_function(test_func,0,10,N=1000)\n",
    "h,b=draw_histogram(dist_0,20)"
   ]
  },
  {
   "cell_type": "code",
   "execution_count": 23,
   "metadata": {},
   "outputs": [
    {
     "data": {
      "text/plain": [
       "(array([ 6.,  9., 14., 22., 23., 25., 37., 44., 52., 49., 45., 66., 71.,\n",
       "        77., 67., 60., 95., 79., 66., 93.]),\n",
       " array([0.538983  , 1.01162062, 1.48425824, 1.95689587, 2.42953349,\n",
       "        2.90217112, 3.37480874, 3.84744636, 4.32008399, 4.79272161,\n",
       "        5.26535924, 5.73799686, 6.21063448, 6.68327211, 7.15590973,\n",
       "        7.62854735, 8.10118498, 8.5738226 , 9.04646023, 9.51909785,\n",
       "        9.99173547]),\n",
       " <BarContainer object of 20 artists>)"
      ]
     },
     "execution_count": 23,
     "metadata": {},
     "output_type": "execute_result"
    },
    {
     "data": {
      "image/png": "[encoded data removed]",
      "text/plain": [
       "<Figure size 640x480 with 1 Axes>"
      ]
     },
     "metadata": {},
     "output_type": "display_data"
    }
   ],
   "source": [
    "import matplotlib.pyplot as plt\n",
    "\n",
    "plt.hist(dist_0, bins=20)"
   ]
  },
  {
   "cell_type": "markdown",
   "metadata": {},
   "source": [
    "*Exercise 8:* Use your function to generate 1000 numbers that are normal distributed, using the `gaussian` function below. Confirm the mean and variance of the data is close to the mean and variance you specify when building the Gaussian. Histogram the data. "
   ]
  },
  {
   "cell_type": "code",
   "execution_count": 24,
   "metadata": {},
   "outputs": [
    {
     "name": "stdout",
     "output_type": "stream",
     "text": [
      "[-2.87,-2.58] : \n",
      "[-2.58,-2.28] : \n",
      "[-2.28,-1.98] : ##\n",
      "[-1.98,-1.68] : ####\n",
      "[-1.68,-1.39] : ####\n",
      "[-1.39,-1.09] : #########\n",
      "[-1.09,-0.79] : #############\n",
      "[-0.79,-0.49] : ###############\n",
      "[-0.49,-0.20] : ###################\n",
      "[-0.20,0.10] : ####################\n",
      "[0.10,0.40] : ##################\n",
      "[0.40,0.70] : #################\n",
      "[0.70,0.99] : #############\n",
      "[0.99,1.29] : ##########\n",
      "[1.29,1.59] : ######\n",
      "[1.59,1.89] : ####\n",
      "[1.89,2.18] : #\n",
      "[2.18,2.48] : #\n",
      "[2.48,2.78] : \n",
      "[2.78,3.08] : \n",
      "Mean of Data: -0.012484859902248548\n",
      "Variance of Data: 0.9235283510678141\n"
     ]
    },
    {
     "data": {
      "image/png": "[encoded data removed]",
      "text/plain": [
       "<Figure size 640x480 with 1 Axes>"
      ]
     },
     "metadata": {},
     "output_type": "display_data"
    }
   ],
   "source": [
    "import math\n",
    "\n",
    "def gaussian(mean, sigma):\n",
    "    def f(x):\n",
    "        return math.exp(-((x-mean)**2)/(2*sigma**2))/math.sqrt(math.pi*sigma)\n",
    "    return f\n",
    "    \n",
    "\n",
    "# Example Instantiation\n",
    "g1=gaussian(0,1)\n",
    "g2=gaussian(10,3)\n",
    "\n",
    "#g1\n",
    "norm_dist_g1=generate_function(g1,-10,10,N=1000)\n",
    "h,b=draw_histogram(norm_dist_g1,20)\n",
    "plt.hist(norm_dist_g1, bins=20)\n",
    "print (\"Mean of Data:\", mean(norm_dist_g1))\n",
    "print(\"Variance of Data:\", variance(norm_dist_g1))\n"
   ]
  },
  {
   "cell_type": "code",
   "execution_count": 25,
   "metadata": {},
   "outputs": [
    {
     "name": "stdout",
     "output_type": "stream",
     "text": [
      "[-0.70,0.33] : \n",
      "[0.33,1.36] : \n",
      "[1.36,2.40] : \n",
      "[2.40,3.43] : #\n",
      "[3.43,4.46] : ##\n",
      "[4.46,5.49] : ####\n",
      "[5.49,6.53] : ########\n",
      "[6.53,7.56] : ##########\n",
      "[7.56,8.59] : #############\n",
      "[8.59,9.62] : #################\n",
      "[9.62,10.66] : ####################\n",
      "[10.66,11.69] : #################\n",
      "[11.69,12.72] : ###########\n",
      "[12.72,13.75] : #########\n",
      "[13.75,14.79] : #####\n",
      "[14.79,15.82] : ####\n",
      "[15.82,16.85] : #\n",
      "[16.85,17.88] : \n",
      "[17.88,18.91] : \n",
      "[18.91,19.95] : \n",
      "Mean of Data: 9.871935969464072\n",
      "Variance of Data: 9.636450346587301\n"
     ]
    },
    {
     "data": {
      "image/png": "[encoded data removed]",
      "text/plain": [
       "<Figure size 640x480 with 1 Axes>"
      ]
     },
     "metadata": {},
     "output_type": "display_data"
    }
   ],
   "source": [
    "#g2\n",
    "norm_dist_g2=generate_function(g2,-20,30,N=1000)\n",
    "h,b=draw_histogram(norm_dist_g2,20)\n",
    "plt.hist(norm_dist_g2, bins=20)\n",
    "print (\"Mean of Data:\", mean(norm_dist_g2))\n",
    "print(\"Variance of Data:\", variance(norm_dist_g2))\n"
   ]
  },
  {
   "cell_type": "markdown",
   "metadata": {},
   "source": [
    "*Exercise 9:* Combine your `generate_function`, `where`, and `in_range` functions above to create an integrate function. Use your integrate function to show that approximately 68% of Normal distribution is within one variance."
   ]
  },
  {
   "cell_type": "code",
   "execution_count": 26,
   "metadata": {},
   "outputs": [],
   "source": [
    "def integrate(func, x_min, x_max, n_points=1000):\n",
    "\n",
    "    #Create sample points of function \n",
    "    samples=generate_function(func, x_min, x_max, n_points)\n",
    "\n",
    "    #Calculate the mean\n",
    "    mean_func= mean(samples)\n",
    "\n",
    "    one_variance=in_range(mean_func-1, mean_func+1)\n",
    "\n",
    "    #Values within one variance\n",
    "    values=where(samples, one_variance)\n",
    "\n",
    "    integral=len(values)/n_points #Area within one variance\n",
    "\n",
    "    return integral"
   ]
  },
  {
   "cell_type": "code",
   "execution_count": 27,
   "metadata": {},
   "outputs": [
    {
     "name": "stdout",
     "output_type": "stream",
     "text": [
      "The area within one standard deviation of the mean: 0.6851\n"
     ]
    }
   ],
   "source": [
    "g1=gaussian(0,1)\n",
    "area_one_var=integrate(g1, -10, 10, 100000)\n",
    "print(f\"The area within one standard deviation of the mean: {area_one_var}\")"
   ]
  },
  {
   "cell_type": "code",
   "execution_count": null,
   "metadata": {},
   "outputs": [],
   "source": []
  }
 ],
 "metadata": {
  "kernelspec": {
   "display_name": "Python 3 (ipykernel)",
   "language": "python",
   "name": "python3"
  },
  "language_info": {
   "codemirror_mode": {
    "name": "ipython",
    "version": 3
   },
   "file_extension": ".py",
   "mimetype": "text/x-python",
   "name": "python",
   "nbconvert_exporter": "python",
   "pygments_lexer": "ipython3",
   "version": "3.12.7"
  }
 },
 "nbformat": 4,
 "nbformat_minor": 4
}
